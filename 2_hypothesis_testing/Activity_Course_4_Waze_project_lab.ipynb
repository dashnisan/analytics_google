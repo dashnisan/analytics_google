{
 "cells": [
  {
   "cell_type": "markdown",
   "metadata": {
    "id": "DtNBZFHO3M7n"
   },
   "source": [
    "# **Waze Project**\n",
    "**Course 4 - The Power of Statistics**"
   ]
  },
  {
   "cell_type": "markdown",
   "metadata": {
    "id": "WVeXS7BNzX6e"
   },
   "source": [
    "Your team is nearing the midpoint of their user churn project. So far, you’ve completed a project proposal, and used Python to explore and analyze Waze’s user data. You’ve also used Python to create data visualizations. The next step is to use statistical methods to analyze and interpret your data.\n",
    "\n",
    "You receive a new email from Sylvester Esperanza, your project manager. Sylvester tells your team about a new request from leadership: to analyze the relationship between mean amount of rides and device type. You also discover follow-up emails from three other team members: May Santner, Chidi Ga, and Harriet Hadzic. These emails discuss the details of the analysis. They would like a statistical analysis of ride data based on device type. In particular, leadership wants to know if there is a statistically significant difference in mean amount of rides between iPhone® users and Android™ users. A final email from Chidi includes your specific assignment: to conduct a two-sample hypothesis test (t-test) to analyze the difference in the mean amount of rides between iPhone users and Android users.\n",
    "\n",
    "A notebook was structured and prepared to help you in this project. Please complete the following questions and prepare an executive summary."
   ]
  },
  {
   "cell_type": "markdown",
   "metadata": {
    "id": "rgSbVJvomcVa"
   },
   "source": [
    "# **Course 4 End-of-course project: Data exploration and hypothesis testing**\n",
    "\n",
    "In this activity, you will explore the data provided and conduct a hypothesis test.\n",
    "<br/>\n",
    "\n",
    "**The purpose** of this project is to demostrate knowledge of how to conduct a two-sample hypothesis test.\n",
    "\n",
    "**The goal** is to apply descriptive statistics and hypothesis testing in Python.\n",
    "<br/>\n",
    "\n",
    "*This activity has three parts:*\n",
    "\n",
    "**Part 1:** Imports and data loading\n",
    "* What data packages will be necessary for hypothesis testing?\n",
    "\n",
    "**Part 2:** Conduct hypothesis testing\n",
    "* How did computing descriptive statistics help you analyze your data?\n",
    "\n",
    "* How did you formulate your null hypothesis and alternative hypothesis?\n",
    "\n",
    "**Part 3:** Communicate insights with stakeholders\n",
    "\n",
    "* What key business insight(s) emerged from your hypothesis test?\n",
    "\n",
    "* What business recommendations do you propose based on your results?\n",
    "\n",
    "<br/>\n",
    "\n",
    "\n",
    "Follow the instructions and answer the questions below to complete the activity. Then, you will complete an Executive Summary using the questions listed on the PACE Strategy Document.\n",
    "\n",
    "Be sure to complete this activity before moving on. The next course item will provide you with a completed exemplar to compare to your own work.\n"
   ]
  },
  {
   "cell_type": "code",
   "execution_count": 1,
   "metadata": {
    "id": "1Q-GL2UrgWWG"
   },
   "outputs": [],
   "source": [
    "# Import any relevant packages or libraries\n",
    "### YOUR CODE HERE ###\n",
    "import pandas as pd\n",
    "from scipy import stats\n",
    "import numpy as np\n",
    "import matplotlib.pyplot as plt\n",
    "import seaborn as sns\n"
   ]
  },
  {
   "cell_type": "code",
   "execution_count": 2,
   "metadata": {
    "id": "2qAt6Upaeg6U"
   },
   "outputs": [],
   "source": [
    "# Load dataset into dataframe\n",
    "df = pd.read_csv('./data/waze_dataset.csv')\n",
    "df.insert(12, 'km_per_driving_day', df['driven_km_drives']/df['driving_days'] )"
   ]
  },
  {
   "cell_type": "markdown",
   "metadata": {},
   "source": [
    "<h1 style=color:blue> CLEAN AND FILTER DATA BEFORE ANALYSIS </h1>"
   ]
  },
  {
   "cell_type": "code",
   "execution_count": 3,
   "metadata": {},
   "outputs": [
    {
     "name": "stdout",
     "output_type": "stream",
     "text": [
      "sessions:\n",
      " max original = 7.430e+02\n",
      " max_nooutliers = 2.430e+02\n",
      "\n",
      "drives:\n",
      " max original = 5.960e+02\n",
      " max_nooutliers = 2.000e+02\n",
      "\n",
      "total_sessions:\n",
      " max original = 1.216e+03\n",
      " max_nooutliers = 4.554e+02\n",
      "\n",
      "driven_km_drives:\n",
      " max original = 2.118e+04\n",
      " max_nooutliers = 8.899e+03\n",
      "\n",
      "duration_minutes_drives:\n",
      " max original = 1.585e+04\n",
      " max_nooutliers = 4.668e+03\n",
      "\n",
      "Lenght of data frame changed from 14299 to 14275 after masking\n"
     ]
    }
   ],
   "source": [
    "nan_data = False\n",
    "outliers = False\n",
    "mask_data = True\n",
    "\n",
    "def quantile_replace_outliers(num_series, qtag):\n",
    "    '''num_seres: a numerical pandas series\n",
    "    qtag: the quantile to be calculated and used for replacement of outliers. As +real number <=1\n",
    "    Function Documentation:\n",
    "    Series.quantile(q=0.5, interpolation='linear')\n",
    "    Return value at the given quantile.'''\n",
    "\n",
    "    qvalue = num_series.quantile(q=qtag)\n",
    "    new_series = num_series.where(num_series<qvalue, qvalue)\n",
    "    return qvalue, new_series\n",
    "\n",
    "if nan_data == False:\n",
    "    df.dropna(axis=0, inplace=True)\n",
    "    df.reset_index()\n",
    "    df.isna().sum()\n",
    "    \n",
    "if outliers == False:\n",
    "    outliers_columns = ['sessions', 'drives', 'total_sessions', 'driven_km_drives', 'duration_minutes_drives']\n",
    "\n",
    "    for column in outliers_columns:\n",
    "        quantile, tempseries = quantile_replace_outliers(df[column], 0.95)\n",
    "        print('{}:\\n max original = {:.3e}\\n max_nooutliers = {:.3e}\\n'\n",
    "          .format(column, df[column].max(), tempseries.max()))\n",
    "        df[column] = tempseries\n",
    "\n",
    "if mask_data == True:\n",
    "    # analyze only selected data\n",
    "\n",
    "    # ALL users, no 0 data, all onboarding days\n",
    "    temp_mask = (df['km_per_driving_day'] >= 1) & (df['total_sessions'] > 5) \n",
    "    df_original_len = len(df) \n",
    "\n",
    "    # very long drives users, no 0 data, more than 3 years using platform\n",
    "    #tempmask = (df_filter['km_per_driving_day'] >= 400) & (df_filter['driving_days'] < 5) \\\n",
    "    #            & (df_filter['n_days_after_onboarding']>1000)\n",
    "\n",
    "    # heavy users, no 0 data, more than 3 years using platform\n",
    "    #tempmask = (df_filter['km_per_driving_day'] >= 400) & (df_filter['total_sessions'] > 5) \\\n",
    "    #            & (df_filter['n_days_after_onboarding']>1000)\n",
    "\n",
    "    # heavy users, no 0 data, 1 year or less using platform\n",
    "    #tempmask = (df_filter['km_per_driving_day'] >= 400) & (df_filter['total_sessions'] > 5) \\\n",
    "    #            & (df_filter['n_days_after_onboarding'] <= 366)\n",
    "    \n",
    "    df = df[temp_mask]\n",
    "    df_new_len = len(df)\n",
    "    print('Lenght of data frame changed from {} to {} after masking'.format(df_original_len, df_new_len ))\n",
    "    "
   ]
  },
  {
   "cell_type": "code",
   "execution_count": 4,
   "metadata": {},
   "outputs": [
    {
     "data": {
      "image/png": "[encoded data removed]",
      "text/plain": [
       "<Figure size 250x400 with 1 Axes>"
      ]
     },
     "metadata": {},
     "output_type": "display_data"
    }
   ],
   "source": [
    "sns.set()\n",
    "plt.figure(figsize=(2.5,4))\n",
    "sns.histplot(data=df,\n",
    "            x='device')\n",
    "plt.grid(False)\n",
    "plt.show()"
   ]
  },
  {
   "cell_type": "markdown",
   "metadata": {
    "id": "-fFiNg4hdGBK"
   },
   "source": [
    "You are interested in the relationship between device type and the number of drives. One approach is to look at the average number of drives for each device type. Calculate these averages."
   ]
  },
  {
   "cell_type": "code",
   "execution_count": 8,
   "metadata": {
    "id": "2LGEWrdVXgI2"
   },
   "outputs": [
    {
     "name": "stdout",
     "output_type": "stream",
     "text": [
      "instances in df for iPhone = 9208\n",
      "iPhone <drives> = 64.5581016507385\n",
      "iPhone drives std = 55.51685023387986\n",
      "\n",
      "\n",
      "instances in df for Android = 5067\n",
      "Android <drives> = 63.18018551411092\n",
      "Android drives std = 54.37257691280858\n",
      "\n",
      "\n"
     ]
    }
   ],
   "source": [
    "### YOUR CODE HERE ###\n",
    "# First separate the data according to device in new DFs\n",
    "# then calculate the means:\n",
    "devices_dfs = dict()\n",
    "devices_drives_means = dict()\n",
    "devices_drives_stds = dict()\n",
    "\n",
    "mask_var = 'device'\n",
    "\n",
    "for device in ['iPhone', 'Android']:\n",
    "    temp_mask = df[mask_var] == device\n",
    "    devices_dfs[device] = df[temp_mask]\n",
    "    devices_drives_means[device] = devices_dfs[device]['drives'].mean()\n",
    "    devices_drives_stds[device] = devices_dfs[device]['drives'].std()\n",
    "    print('instances in df for {} = {}'.format(device, len(devices_dfs[device])))\n",
    "    print('{} <drives> = {}'.format(device, devices_drives_means[device]))\n",
    "    print('{} drives std = {}'.format(device, devices_drives_stds[device]))\n",
    "    print('\\n')"
   ]
  },
  {
   "cell_type": "code",
   "execution_count": 9,
   "metadata": {},
   "outputs": [
    {
     "data": {
      "image/png": "[encoded data removed]",
      "text/plain": [
       "<Figure size 300x300 with 1 Axes>"
      ]
     },
     "metadata": {},
     "output_type": "display_data"
    },
    {
     "data": {
      "image/png": "[encoded data removed]",
      "text/plain": [
       "<Figure size 300x300 with 1 Axes>"
      ]
     },
     "metadata": {},
     "output_type": "display_data"
    }
   ],
   "source": [
    "for device in ['iPhone', 'Android']:\n",
    "    plt.figure(figsize=(3,3))\n",
    "    sns.histplot(data=devices_dfs[device],\n",
    "            x='drives')\n",
    "    plt.grid(True)\n",
    "    plt.title('Monthly drives for device {}'.format(device))\n",
    "    plt.show()"
   ]
  },
  {
   "cell_type": "markdown",
   "metadata": {},
   "source": [
    "<h1 style=color:blue> EXTRA: GET CONFIDENCE INTERVALS FOR THE DRIVES MEANS </h1>"
   ]
  },
  {
   "cell_type": "code",
   "execution_count": 10,
   "metadata": {},
   "outputs": [],
   "source": [
    "# DEFINE FUNCTIONS\n",
    "############################################################################################\n",
    "\n",
    "def get_std_error_gauss_dist_sample(mean_or_prop, std_or_prop, n):\n",
    "    '''function to calculate the standard error for a sample statistic either\n",
    "    mean or proportion.\n",
    "    Input:\n",
    "    mean_or_prop: string: 'mean', 'proportion'\n",
    "    std_or_prop: float: value to calculate std. error:\n",
    "        For mean: standard deviation of sample\n",
    "        For proportion: proportion (<=1)\n",
    "    n: sample size    \n",
    "    '''\n",
    "    \n",
    "    if mean_or_prop == 'mean':\n",
    "        se = std_or_prop/(np.sqrt(n))\n",
    "    elif mean_or_prop == 'proportion':\n",
    "        se = np.sqrt(std_or_prop*(1-std_or_prop)/n)\n",
    "        \n",
    "    return se\n",
    "    \n",
    "############################################################################################\n",
    "\n",
    "def get_margin_error_gauss_dist_sample(cl, n, mean_or_prop, std_or_prop):\n",
    "    '''function to calculate the margin error for a sample statistic either\n",
    "    mean or proportion. \n",
    "    Invokes get_std_error_gauss_dist_sample\n",
    "    Input:\n",
    "    1. cl: string: confidence level\n",
    "    2. mean_or_prop: string: 'mean', 'proportion'\n",
    "    3. std_or_prop: float: value to calculate std. error:\n",
    "        For mean: standard deviation of sample\n",
    "        For proportion: proportion (<=1)\n",
    "    4. n: sample size    \n",
    "    '''\n",
    "\n",
    "    # create dictionary for cl and z-score values:\n",
    "    allowed_cls = ('0.9', '0.95', '0.99')\n",
    "    allowed_zscores = (1.65, 1.96, 2.58)\n",
    "    allowed = tuple(zip(allowed_cls, allowed_zscores))\n",
    "    allowed = dict(allowed)\n",
    "    #print(allowed)\n",
    "    \n",
    "    if cl not in allowed_cls:\n",
    "        print('allowed confidence leves are only: {}'.format(allowed_cls))\n",
    "        return 1\n",
    "    else:\n",
    "        print('Calculating margin of error with CL={} for sample normal distribution'.format(cl))\n",
    "        \n",
    "        if mean_or_prop == 'mean':\n",
    "            print('Margin of Error case: MEAN')\n",
    "            se = get_std_error_gauss_dist_sample('mean',std_or_prop, n)\n",
    "            \n",
    "        elif mean_or_prop == 'proportion':\n",
    "            print('Margin of Error case: PROPORTION')\n",
    "            se = get_std_error_gauss_dist_sample('proportion',std_or_prop, n)\n",
    "        \n",
    "        print('se = {:.2f}'.format(se))\n",
    "        print('z-score = {}'.format(allowed[cl]))\n",
    "        moe = allowed[cl]*se\n",
    "        return moe        \n",
    "############################################################################################\n",
    "    "
   ]
  },
  {
   "cell_type": "code",
   "execution_count": 11,
   "metadata": {},
   "outputs": [
    {
     "name": "stdout",
     "output_type": "stream",
     "text": [
      "Calculating margin of error with CL=0.95 for sample normal distribution\n",
      "Margin of Error case: MEAN\n",
      "se = 0.46\n",
      "z-score = 1.96\n",
      "For iPhone:\n",
      "95% CI [63.65, 65.47]\n",
      "95% CI 64.56 +/- 0.91\n",
      "\n",
      "\n",
      "Calculating margin of error with CL=0.95 for sample normal distribution\n",
      "Margin of Error case: MEAN\n",
      "se = 0.46\n",
      "z-score = 1.96\n",
      "For Android:\n",
      "95% CI [62.29, 64.07]\n",
      "95% CI 63.18 +/- 0.89\n",
      "\n",
      "\n"
     ]
    }
   ],
   "source": [
    "# GET MOEs FOR  CL=0.95:\n",
    "\n",
    "confidence_level = 0.95\n",
    "\n",
    "for device in ['iPhone', 'Android']:\n",
    "    # get margin of error:\n",
    "    statistic_type = 'mean'\n",
    "    moe = get_margin_error_gauss_dist_sample(str(confidence_level), len(df), statistic_type, devices_drives_stds[device])\n",
    "    ci_upper = devices_drives_means[device] + moe\n",
    "    ci_lower = devices_drives_means[device] - moe\n",
    "    ci_sample = '{:.0f}% CI [{:.2f}, {:.2f}]'.format(confidence_level*100, ci_lower, ci_upper)\n",
    "    ci_sample2 = '{:.0f}% CI {:.2f} +/- {:.2f}\\n\\n'.format(confidence_level*100, devices_drives_means[device], moe)\n",
    "    print('For {}:'.format(device))\n",
    "    print(ci_sample)\n",
    "    print(ci_sample2)"
   ]
  },
  {
   "cell_type": "markdown",
   "metadata": {
    "id": "Z_u-zWvGdfII"
   },
   "source": [
    "Based on the averages shown, it appears that drivers who use an iPhone device to interact with the application have a higher number of drives on average. However, this difference might arise from random sampling, rather than being a true difference in the number of drives. To assess whether the difference is statistically significant, you can conduct a hypothesis test."
   ]
  },
  {
   "cell_type": "markdown",
   "metadata": {
    "id": "QpFRQDaNzX6p"
   },
   "source": [
    "\n",
    "### **Task 3. Hypothesis testing**\n",
    "\n",
    "Your goal is to conduct a two-sample t-test. Recall the steps for conducting a hypothesis test:\n",
    "\n",
    "\n",
    "1.   State the null hypothesis and the alternative hypothesis\n",
    "2.   Choose a signficance level\n",
    "3.   Find the p-value\n",
    "4.   Reject or fail to reject the null hypothesis\n",
    "\n",
    "**Note:** This is a t-test for two independent samples. This is the appropriate test since the two groups are independent (Android users vs. iPhone users)."
   ]
  },
  {
   "cell_type": "markdown",
   "metadata": {
    "id": "phXxr74vVPrs"
   },
   "source": [
    "Recall the difference between the null hypothesis ($H_0$) and the alternative hypothesis ($H_A$).\n",
    "\n",
    "**Question:** What are your hypotheses for this data project?"
   ]
  },
  {
   "cell_type": "markdown",
   "metadata": {},
   "source": [
    "<h1 style=color:blue> HYPOTHESIS TESTING: IS THE DIFFERENCE IN THE MEANS OF iPHONE AND ANDROID USERS STATISTICALLY SIGNIFICANT?</h1>"
   ]
  },
  {
   "cell_type": "markdown",
   "metadata": {
    "id": "SkDeGggZYM84"
   },
   "source": [
    "<ul style=\"color:purple;font-weight:700;font-size:12pt\">\n",
    "    <li> H0: (mean drives iPhone users) <= (mean drives Android users) </li>\n",
    "    <li> H1: (mean drives iPhone users) > (mean drives Android users) </il>\n",
    "</ul>"
   ]
  },
  {
   "cell_type": "markdown",
   "metadata": {
    "id": "IVHpnfvNeTUA"
   },
   "source": [
    "Next, choose 5% as the significance level and proceed with a two-sample t-test.\n",
    "\n",
    "You can use the `stats.ttest_ind()` function to perform the test.\n",
    "\n",
    "\n",
    "**Technical note**: The default for the argument `equal_var` in `stats.ttest_ind()` is `True`, which assumes population variances are equal. This equal variance assumption might not hold in practice (that is, there is no strong reason to assume that the two groups have the same variance); you can relax this assumption by setting `equal_var` to `False`, and `stats.ttest_ind()` will perform the unequal variances $t$-test (known as Welch's `t`-test). Refer to the [scipy t-test documentation](https://docs.scipy.org/doc/scipy/reference/generated/scipy.stats.ttest_ind.html) for more information.\n",
    "\n",
    "\n",
    "1. Isolate the `drives` column for iPhone users.\n",
    "2. Isolate the `drives` column for Android users.\n",
    "3. Perform the t-test"
   ]
  },
  {
   "cell_type": "code",
   "execution_count": 16,
   "metadata": {
    "id": "rdlsXg7Dhbrd"
   },
   "outputs": [],
   "source": [
    "# Perform the t-test\n",
    "### YOUR CODE HERE ###\n",
    "\n",
    "h1='greater'\n",
    "significance_level = 0.05\n",
    "a = devices_dfs['iPhone']['drives']\n",
    "b = devices_dfs['Android']['drives']\n",
    "\n",
    "\n",
    "ts, pvalue = stats.ttest_ind(a=a, b=b, equal_var=False, alternative=h1)"
   ]
  },
  {
   "cell_type": "code",
   "execution_count": 17,
   "metadata": {},
   "outputs": [],
   "source": [
    "ttest_result = {'iphone_drives_mean_':[devices_drives_means['iPhone']],\\\n",
    "                'android_drives_mean_':[devices_drives_means['Android']],\\\n",
    "                'Significance_Level':[significance_level],\\\n",
    "                'test_statisitc':[ts],\\\n",
    "                'pvalue':[pvalue]}"
   ]
  },
  {
   "cell_type": "code",
   "execution_count": 23,
   "metadata": {},
   "outputs": [
    {
     "data": {
      "text/html": [
       "<div>\n",
       "<style scoped>\n",
       "    .dataframe tbody tr th:only-of-type {\n",
       "        vertical-align: middle;\n",
       "    }\n",
       "\n",
       "    .dataframe tbody tr th {\n",
       "        vertical-align: top;\n",
       "    }\n",
       "\n",
       "    .dataframe thead th {\n",
       "        text-align: right;\n",
       "    }\n",
       "</style>\n",
       "<table border=\"1\" class=\"dataframe\">\n",
       "  <thead>\n",
       "    <tr style=\"text-align: right;\">\n",
       "      <th></th>\n",
       "      <th>result parameters t-test</th>\n",
       "    </tr>\n",
       "  </thead>\n",
       "  <tbody>\n",
       "    <tr>\n",
       "      <th>iphone_drives_mean_</th>\n",
       "      <td>64.558102</td>\n",
       "    </tr>\n",
       "    <tr>\n",
       "      <th>android_drives_mean_</th>\n",
       "      <td>63.180186</td>\n",
       "    </tr>\n",
       "    <tr>\n",
       "      <th>Significance_Level</th>\n",
       "      <td>0.050000</td>\n",
       "    </tr>\n",
       "    <tr>\n",
       "      <th>test_statisitc</th>\n",
       "      <td>1.438001</td>\n",
       "    </tr>\n",
       "    <tr>\n",
       "      <th>pvalue</th>\n",
       "      <td>0.075232</td>\n",
       "    </tr>\n",
       "  </tbody>\n",
       "</table>\n",
       "</div>"
      ],
      "text/plain": [
       "                      result parameters t-test\n",
       "iphone_drives_mean_                  64.558102\n",
       "android_drives_mean_                 63.180186\n",
       "Significance_Level                    0.050000\n",
       "test_statisitc                        1.438001\n",
       "pvalue                                0.075232"
      ]
     },
     "execution_count": 23,
     "metadata": {},
     "output_type": "execute_result"
    }
   ],
   "source": [
    "pd.DataFrame(ttest_result, index=['result parameters t-test']).transpose()"
   ]
  },
  {
   "cell_type": "markdown",
   "metadata": {
    "id": "64Wq_VSaVsNm"
   },
   "source": [
    "**Question:** Based on the p-value you got above, do you reject or fail to reject the null hypothesis?"
   ]
  },
  {
   "cell_type": "markdown",
   "metadata": {
    "id": "SGLHv2FY1P2-"
   },
   "source": [
    "<p style=\"color:purple;font-weight:700;font-size:12pt\">\n",
    "    * H0: (mean drives iPhone users) $<=$ (mean drives Android users) <br>\n",
    "    * H1: (mean drives iPhone users) $>$ (mean drives Android users) <br><br>\n",
    "    $pvalue >$ significance level <br><br>\n",
    "    Therefore: <br><br>\n",
    "    * Observation under H0 is likely<br>\n",
    "    * Fail to reject H0<br>\n",
    "    * It can only be concluded that data is consistent with H0 but cannot confirm H1\n",
    "    \n",
    "    \n",
    "</p>"
   ]
  },
  {
   "cell_type": "code",
   "execution_count": 24,
   "metadata": {
    "scrolled": true
   },
   "outputs": [
    {
     "data": {
      "text/html": [
       "<div>\n",
       "<style scoped>\n",
       "    .dataframe tbody tr th:only-of-type {\n",
       "        vertical-align: middle;\n",
       "    }\n",
       "\n",
       "    .dataframe tbody tr th {\n",
       "        vertical-align: top;\n",
       "    }\n",
       "\n",
       "    .dataframe thead th {\n",
       "        text-align: right;\n",
       "    }\n",
       "</style>\n",
       "<table border=\"1\" class=\"dataframe\">\n",
       "  <thead>\n",
       "    <tr style=\"text-align: right;\">\n",
       "      <th></th>\n",
       "      <th>result parameters t-test</th>\n",
       "    </tr>\n",
       "  </thead>\n",
       "  <tbody>\n",
       "    <tr>\n",
       "      <th>iphone_drives_mean_</th>\n",
       "      <td>64.558102</td>\n",
       "    </tr>\n",
       "    <tr>\n",
       "      <th>android_drives_mean_</th>\n",
       "      <td>63.180186</td>\n",
       "    </tr>\n",
       "    <tr>\n",
       "      <th>Significance_Level</th>\n",
       "      <td>0.050000</td>\n",
       "    </tr>\n",
       "    <tr>\n",
       "      <th>test_statisitc</th>\n",
       "      <td>1.438001</td>\n",
       "    </tr>\n",
       "    <tr>\n",
       "      <th>pvalue</th>\n",
       "      <td>0.924768</td>\n",
       "    </tr>\n",
       "  </tbody>\n",
       "</table>\n",
       "</div>"
      ],
      "text/plain": [
       "                      result parameters t-test\n",
       "iphone_drives_mean_                  64.558102\n",
       "android_drives_mean_                 63.180186\n",
       "Significance_Level                    0.050000\n",
       "test_statisitc                        1.438001\n",
       "pvalue                                0.924768"
      ]
     },
     "execution_count": 24,
     "metadata": {},
     "output_type": "execute_result"
    }
   ],
   "source": [
    "# Check it from the other side:\n",
    "\n",
    "# h0: mean_iphone >= mean_android\n",
    "# h1: mean_iphone < mean_android\n",
    "\n",
    "h1='less'\n",
    "significance_level = 0.05\n",
    "a = devices_dfs['iPhone']['drives']\n",
    "b = devices_dfs['Android']['drives']\n",
    "\n",
    "ts, pvalue = stats.ttest_ind(a=a, b=b, equal_var=False, alternative=h1)\n",
    "\n",
    "ttest_result = {'iphone_drives_mean_':[devices_drives_means['iPhone']],\\\n",
    "                'android_drives_mean_':[devices_drives_means['Android']],\\\n",
    "                'Significance_Level':[significance_level],\\\n",
    "                'test_statisitc':[ts],\\\n",
    "                'pvalue':[pvalue]}\n",
    "\n",
    "pd.DataFrame(ttest_result, index=['result parameters t-test']).transpose()"
   ]
  },
  {
   "cell_type": "markdown",
   "metadata": {},
   "source": [
    "<p style=\"color:purple;font-weight:700;font-size:12pt\">\n",
    "    * H0: (mean drives iPhone users) $>=$ (mean drives Android users) <br>\n",
    "    * H1: (mean drives iPhone users) $<$ (mean drives Android users) <br><br>\n",
    "    $pvalue >>$ significance level <br><br>\n",
    "    Therefore: <br><br>\n",
    "    * Observation under H0 is highly likely<br>\n",
    "    * Fail to reject H0<br>\n",
    "    * It can only be concluded that data is consistent with H0 but cannot confirm H1\n",
    "    \n",
    "</p>"
   ]
  },
  {
   "cell_type": "markdown",
   "metadata": {
    "id": "h1PRfiD3hcwE"
   },
   "source": [
    "### **Task 4. Communicate insights with stakeholders**"
   ]
  },
  {
   "cell_type": "markdown",
   "metadata": {
    "id": "ItreFaZKhvVw"
   },
   "source": [
    "Now that you've completed your hypothesis test, the next step is to share your findings with the Waze leadership team. Consider the following question as you prepare to write your executive summary:\n",
    "\n",
    "* What business insight(s) can you draw from the result of your hypothesis test?"
   ]
  },
  {
   "cell_type": "markdown",
   "metadata": {
    "id": "-CgNingVY4Bw"
   },
   "source": [
    "<p style=\"color:brown;font-weight:700;font-size:20px\">\n",
    "    The difference observed in the mean values of the monthly drives betwenn iPhone users and Android users <br>\n",
    "    is not significant according to the analyzed data.<br><br>\n",
    "    The test was made from 2 perspectives:\n",
    "    1. Try to confirm iPhone users use more the app than Android users\n",
    "    2. Try to confirm iPhone users use less the app than Android users\n",
    "    <br><br>\n",
    "    From both perspectives no statistical significance of the observations could be confirmed\n",
    "    \n",
    "</p>\n"
   ]
  },
  {
   "cell_type": "markdown",
   "metadata": {},
   "source": [
    "**Congratulations!** You've completed this lab. However, you may not notice a green check mark next to this item on Coursera's platform. Please continue your progress regardless of the check mark. Just click on the \"save\" icon at the top of this notebook to ensure your work has been logged."
   ]
  },
  {
   "cell_type": "markdown",
   "metadata": {},
   "source": [
    "<h1 style=color:blue>INTERPRETATION OF T-TEST RESULTS</h1>"
   ]
  },
  {
   "cell_type": "markdown",
   "metadata": {},
   "source": [
    "<p style=color:green;font-weight:700;font-size:12pt>\n",
    "       The difference observed in the mean values of the monthly drives betwenn iPhone users and Android users <br>\n",
    "        is not significant according to the analyzed data.<br><br>\n",
    "        The test was made from 2 perspectives and none of them confirmed statistical significance of the observations in the sample:\n",
    "        <ol  style=color:green;font-weight:700;font-size:12pt>\n",
    "            <li> Try to confirm iPhone users use more the app than Android users </li>\n",
    "            <li> Try to confirm iPhone users use less the app than Android users </li>\n",
    "        </ol><br>\n",
    "        \n",
    "</p>"
   ]
  },
  {
   "cell_type": "code",
   "execution_count": null,
   "metadata": {},
   "outputs": [],
   "source": []
  }
 ],
 "metadata": {
  "colab": {
   "provenance": [
    {
     "file_id": "1VMShPM3amGvcOZx0J5yHz1kb04rzCFvN",
     "timestamp": 1671052168408
    },
    {
     "file_id": "1su07KaK4RI6MI85tMf2H19qop9LcqqDy",
     "timestamp": 1669648371757
    },
    {
     "file_id": "1f5FzGbEQi1DvhHY8u-K32sklfpgir_pK",
     "timestamp": 1669589913543
    }
   ]
  },
  "kernelspec": {
   "display_name": "Python 3 (ipykernel)",
   "language": "python",
   "name": "python3"
  },
  "language_info": {
   "codemirror_mode": {
    "name": "ipython",
    "version": 3
   },
   "file_extension": ".py",
   "mimetype": "text/x-python",
   "name": "python",
   "nbconvert_exporter": "python",
   "pygments_lexer": "ipython3",
   "version": "3.8.10"
  }
 },
 "nbformat": 4,
 "nbformat_minor": 4
}
