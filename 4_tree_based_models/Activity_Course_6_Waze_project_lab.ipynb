{
 "cells": [
  {
   "cell_type": "markdown",
   "metadata": {
    "id": "DtNBZFHO3M7n"
   },
   "source": [
    "# **Waze Project**\n",
    "**Course 6 - The nuts and bolts of machine learning**"
   ]
  },
  {
   "cell_type": "markdown",
   "metadata": {
    "id": "XfCZ5KuI_2lT"
   },
   "source": [
    "Your team is close to completing their user churn project. Previously, you completed a project proposal, and used Python to explore and analyze Waze’s user data, create data visualizations, and conduct a hypothesis test. Most recently, you built a binomial logistic regression model based on multiple variables.\n",
    "\n",
    "Leadership appreciates all your hard work. Now, they want your team to build a machine learning model to predict user churn. To get the best results, your team decides to build and test two tree-based models: random forest and XGBoost.\n",
    "\n",
    "Your work will help leadership make informed business decisions to prevent user churn, improve user retention, and grow Waze’s business.\n"
   ]
  },
  {
   "cell_type": "markdown",
   "metadata": {
    "id": "rgSbVJvomcVa",
    "jp-MarkdownHeadingCollapsed": true
   },
   "source": [
    "# **Course 6 End-of-Course Project: Build Several Machine Learning Models**"
   ]
  },
  {
   "cell_type": "markdown",
   "metadata": {},
   "source": [
    "In this activity, you will practice using tree-based modeling techniques to predict on a binary target class.\n",
    "<br/>\n",
    "\n",
    "**The purpose** of this model is to find factors that drive user churn.\n",
    "\n",
    "**The goal** of this model is to predict whether or not a Waze user is retained or churned.\n",
    "<br/>\n",
    "\n",
    "*This activity has three parts:*\n",
    "\n",
    "**Part 1:** Ethical considerations\n",
    "* Consider the ethical implications of the request\n",
    "\n",
    "* Should the objective of the model be adjusted?\n",
    "\n",
    "**Part 2:** Feature engineering\n",
    "\n",
    "* Perform feature selection, extraction, and transformation to prepare the data for modeling\n",
    "\n",
    "**Part 3:** Modeling\n",
    "\n",
    "* Build the models, evaluate them, and advise on next steps\n",
    "\n",
    "Follow the instructions and answer the questions below to complete the activity. Then, you will complete an Executive Summary using the questions listed on the PACE Strategy Document.\n",
    "\n",
    "Be sure to complete this activity before moving on. The next course item will provide you with a completed exemplar to compare to your own work."
   ]
  },
  {
   "cell_type": "markdown",
   "metadata": {
    "id": "e8Vm3QEfGELS",
    "jp-MarkdownHeadingCollapsed": true
   },
   "source": [
    "# **Task 1. Data Import and Overview**\n"
   ]
  },
  {
   "cell_type": "code",
   "execution_count": 747,
   "metadata": {
    "id": "fKhnX2Puf4Bt"
   },
   "outputs": [],
   "source": [
    "#                        Data manipulation\n",
    "import numpy as np\n",
    "import pandas as pd\n",
    "# Data sets:\n",
    "from sklearn.model_selection import train_test_split\n",
    "from sklearn.model_selection import PredefinedSplit\n",
    "# data preprocessing:\n",
    "import sklearn.preprocessing as prepro\n",
    "################################################################################\n",
    "#                         Data visualization\n",
    "import matplotlib.pyplot as plt\n",
    "import seaborn as sns\n",
    "from sklearn.tree import plot_tree\n",
    "from xgboost import plot_importance\n",
    "\n",
    "\n",
    "################################################################################\n",
    "# This lets us see all of the columns, preventing Juptyer from redacting them.\n",
    "################################################################################\n",
    "#                         Data modeling\n",
    "\n",
    "\n",
    "# Models:\n",
    "from sklearn.tree import DecisionTreeClassifier\n",
    "from sklearn.ensemble import RandomForestClassifier\n",
    "from xgboost import XGBClassifier\n",
    "\n",
    "# Grid Search Cross-Validation:\n",
    "from sklearn.model_selection import GridSearchCV\n",
    "\n",
    "\n",
    "################################################################################\n",
    "#                         Model metrics:\n",
    "import sklearn.metrics as metrics\n",
    "from sklearn.metrics import ConfusionMatrixDisplay, confusion_matrix, PrecisionRecallDisplay\n",
    "from sklearn.metrics import recall_score, precision_score, f1_score, accuracy_score\n",
    "\n",
    "################################################################################\n",
    "\n",
    "# Model export/import:\n",
    "import pickle\n",
    "import joblib # more efficient at serializing large numpy arrays"
   ]
  },
  {
   "cell_type": "markdown",
   "metadata": {
    "id": "IeXTZ2tdbALL"
   },
   "source": [
    "Now read in the dataset as `df0` and inspect the first five rows.\n",
    "\n",
    "**Note:** As shown in this cell, the dataset has been automatically loaded in for you. You do not need to download the .csv file, or provide more code, in order to access the dataset and proceed with this lab. Please continue with this activity by completing the following instructions."
   ]
  },
  {
   "cell_type": "code",
   "execution_count": 499,
   "metadata": {
    "id": "5weTXGKqa_iG"
   },
   "outputs": [
    {
     "data": {
      "text/html": [
       "<div>\n",
       "<style scoped>\n",
       "    .dataframe tbody tr th:only-of-type {\n",
       "        vertical-align: middle;\n",
       "    }\n",
       "\n",
       "    .dataframe tbody tr th {\n",
       "        vertical-align: top;\n",
       "    }\n",
       "\n",
       "    .dataframe thead th {\n",
       "        text-align: right;\n",
       "    }\n",
       "</style>\n",
       "<table border=\"1\" class=\"dataframe\">\n",
       "  <thead>\n",
       "    <tr style=\"text-align: right;\">\n",
       "      <th></th>\n",
       "      <th>ID</th>\n",
       "      <th>label</th>\n",
       "      <th>sessions</th>\n",
       "      <th>drives</th>\n",
       "      <th>total_sessions</th>\n",
       "      <th>n_days_after_onboarding</th>\n",
       "      <th>total_navigations_fav1</th>\n",
       "      <th>total_navigations_fav2</th>\n",
       "      <th>driven_km_drives</th>\n",
       "      <th>duration_minutes_drives</th>\n",
       "      <th>activity_days</th>\n",
       "      <th>driving_days</th>\n",
       "      <th>device</th>\n",
       "    </tr>\n",
       "  </thead>\n",
       "  <tbody>\n",
       "    <tr>\n",
       "      <th>0</th>\n",
       "      <td>0</td>\n",
       "      <td>retained</td>\n",
       "      <td>283</td>\n",
       "      <td>226</td>\n",
       "      <td>296.748273</td>\n",
       "      <td>2276</td>\n",
       "      <td>208</td>\n",
       "      <td>0</td>\n",
       "      <td>2628.845068</td>\n",
       "      <td>1985.775061</td>\n",
       "      <td>28</td>\n",
       "      <td>19</td>\n",
       "      <td>Android</td>\n",
       "    </tr>\n",
       "    <tr>\n",
       "      <th>1</th>\n",
       "      <td>1</td>\n",
       "      <td>retained</td>\n",
       "      <td>133</td>\n",
       "      <td>107</td>\n",
       "      <td>326.896596</td>\n",
       "      <td>1225</td>\n",
       "      <td>19</td>\n",
       "      <td>64</td>\n",
       "      <td>13715.920550</td>\n",
       "      <td>3160.472914</td>\n",
       "      <td>13</td>\n",
       "      <td>11</td>\n",
       "      <td>iPhone</td>\n",
       "    </tr>\n",
       "    <tr>\n",
       "      <th>2</th>\n",
       "      <td>2</td>\n",
       "      <td>retained</td>\n",
       "      <td>114</td>\n",
       "      <td>95</td>\n",
       "      <td>135.522926</td>\n",
       "      <td>2651</td>\n",
       "      <td>0</td>\n",
       "      <td>0</td>\n",
       "      <td>3059.148818</td>\n",
       "      <td>1610.735904</td>\n",
       "      <td>14</td>\n",
       "      <td>8</td>\n",
       "      <td>Android</td>\n",
       "    </tr>\n",
       "    <tr>\n",
       "      <th>3</th>\n",
       "      <td>3</td>\n",
       "      <td>retained</td>\n",
       "      <td>49</td>\n",
       "      <td>40</td>\n",
       "      <td>67.589221</td>\n",
       "      <td>15</td>\n",
       "      <td>322</td>\n",
       "      <td>7</td>\n",
       "      <td>913.591123</td>\n",
       "      <td>587.196542</td>\n",
       "      <td>7</td>\n",
       "      <td>3</td>\n",
       "      <td>iPhone</td>\n",
       "    </tr>\n",
       "    <tr>\n",
       "      <th>4</th>\n",
       "      <td>4</td>\n",
       "      <td>retained</td>\n",
       "      <td>84</td>\n",
       "      <td>68</td>\n",
       "      <td>168.247020</td>\n",
       "      <td>1562</td>\n",
       "      <td>166</td>\n",
       "      <td>5</td>\n",
       "      <td>3950.202008</td>\n",
       "      <td>1219.555924</td>\n",
       "      <td>27</td>\n",
       "      <td>18</td>\n",
       "      <td>Android</td>\n",
       "    </tr>\n",
       "  </tbody>\n",
       "</table>\n",
       "</div>"
      ],
      "text/plain": [
       "   ID     label  sessions  drives  total_sessions  n_days_after_onboarding  \\\n",
       "0   0  retained       283     226      296.748273                     2276   \n",
       "1   1  retained       133     107      326.896596                     1225   \n",
       "2   2  retained       114      95      135.522926                     2651   \n",
       "3   3  retained        49      40       67.589221                       15   \n",
       "4   4  retained        84      68      168.247020                     1562   \n",
       "\n",
       "   total_navigations_fav1  total_navigations_fav2  driven_km_drives  \\\n",
       "0                     208                       0       2628.845068   \n",
       "1                      19                      64      13715.920550   \n",
       "2                       0                       0       3059.148818   \n",
       "3                     322                       7        913.591123   \n",
       "4                     166                       5       3950.202008   \n",
       "\n",
       "   duration_minutes_drives  activity_days  driving_days   device  \n",
       "0              1985.775061             28            19  Android  \n",
       "1              3160.472914             13            11   iPhone  \n",
       "2              1610.735904             14             8  Android  \n",
       "3               587.196542              7             3   iPhone  \n",
       "4              1219.555924             27            18  Android  "
      ]
     },
     "execution_count": 499,
     "metadata": {},
     "output_type": "execute_result"
    }
   ],
   "source": [
    "# Import dataset\n",
    "df = pd.read_csv('./data/waze_dataset.csv')\n",
    "df.head()"
   ]
  },
  {
   "cell_type": "code",
   "execution_count": 500,
   "metadata": {},
   "outputs": [
    {
     "name": "stdout",
     "output_type": "stream",
     "text": [
      "<class 'pandas.core.frame.DataFrame'>\n",
      "RangeIndex: 14999 entries, 0 to 14998\n",
      "Data columns (total 13 columns):\n",
      " #   Column                   Non-Null Count  Dtype  \n",
      "---  ------                   --------------  -----  \n",
      " 0   ID                       14999 non-null  int64  \n",
      " 1   label                    14299 non-null  object \n",
      " 2   sessions                 14999 non-null  int64  \n",
      " 3   drives                   14999 non-null  int64  \n",
      " 4   total_sessions           14999 non-null  float64\n",
      " 5   n_days_after_onboarding  14999 non-null  int64  \n",
      " 6   total_navigations_fav1   14999 non-null  int64  \n",
      " 7   total_navigations_fav2   14999 non-null  int64  \n",
      " 8   driven_km_drives         14999 non-null  float64\n",
      " 9   duration_minutes_drives  14999 non-null  float64\n",
      " 10  activity_days            14999 non-null  int64  \n",
      " 11  driving_days             14999 non-null  int64  \n",
      " 12  device                   14999 non-null  object \n",
      "dtypes: float64(3), int64(8), object(2)\n",
      "memory usage: 1.5+ MB\n"
     ]
    }
   ],
   "source": [
    "df.info()"
   ]
  },
  {
   "cell_type": "markdown",
   "metadata": {
    "jp-MarkdownHeadingCollapsed": true
   },
   "source": [
    "# **Task 2. Data Cleaning and Filtering**"
   ]
  },
  {
   "cell_type": "code",
   "execution_count": 501,
   "metadata": {},
   "outputs": [],
   "source": [
    "# Remove ID column given that it is not useful for analysis\n",
    "df.drop(columns='ID', inplace=True)"
   ]
  },
  {
   "cell_type": "code",
   "execution_count": 502,
   "metadata": {},
   "outputs": [
    {
     "name": "stdout",
     "output_type": "stream",
     "text": [
      "label                      700\n",
      "sessions                     0\n",
      "drives                       0\n",
      "total_sessions               0\n",
      "n_days_after_onboarding      0\n",
      "total_navigations_fav1       0\n",
      "total_navigations_fav2       0\n",
      "driven_km_drives             0\n",
      "duration_minutes_drives      0\n",
      "activity_days                0\n",
      "driving_days                 0\n",
      "device                       0\n",
      "dtype: int64\n",
      "\n",
      "\n",
      "label                      0\n",
      "sessions                   0\n",
      "drives                     0\n",
      "total_sessions             0\n",
      "n_days_after_onboarding    0\n",
      "total_navigations_fav1     0\n",
      "total_navigations_fav2     0\n",
      "driven_km_drives           0\n",
      "duration_minutes_drives    0\n",
      "activity_days              0\n",
      "driving_days               0\n",
      "device                     0\n",
      "dtype: int64\n"
     ]
    }
   ],
   "source": [
    "# Remove rows with NaN values:\n",
    "nan_data = False\n",
    "\n",
    "if nan_data == False:\n",
    "    print(df.isna().sum())\n",
    "    df.dropna(axis=0, inplace=True)\n",
    "    df.reset_index()\n",
    "    print('\\n')\n",
    "    print(df.isna().sum())"
   ]
  },
  {
   "cell_type": "code",
   "execution_count": 503,
   "metadata": {},
   "outputs": [
    {
     "name": "stdout",
     "output_type": "stream",
     "text": [
      "2 rows weremoved by masking data\n",
      "\n"
     ]
    }
   ],
   "source": [
    "# Discard rows with values over threshold for selected variables:\n",
    "mask_data = True\n",
    "if mask_data == True:\n",
    "    # Users with at least one drive this month with some km (implies at least one session, theoretically)\n",
    "    #temp_mask = (df['driven_km_drives'] > 0) & (df['total_sessions'] > 1) & (df['driving_days'] > 0) \n",
    "    temp_mask = (df['driven_km_drives'] > 0) & (df['total_sessions'] > 1) \n",
    "    df_original_len = len(df) \n",
    "    df = df[temp_mask]\n",
    "    df_len_diff = df_original_len - len(df)\n",
    "    print ('{} rows weremoved by masking data\\n'.format(df_len_diff))"
   ]
  },
  {
   "cell_type": "markdown",
   "metadata": {
    "id": "5VZowX9rhU1o",
    "jp-MarkdownHeadingCollapsed": true
   },
   "source": [
    "# **Task 3. Feature Engineering**"
   ]
  },
  {
   "cell_type": "code",
   "execution_count": 506,
   "metadata": {
    "id": "vAB6cv6xfvZn"
   },
   "outputs": [
    {
     "data": {
      "text/html": [
       "<div>\n",
       "<style scoped>\n",
       "    .dataframe tbody tr th:only-of-type {\n",
       "        vertical-align: middle;\n",
       "    }\n",
       "\n",
       "    .dataframe tbody tr th {\n",
       "        vertical-align: top;\n",
       "    }\n",
       "\n",
       "    .dataframe thead th {\n",
       "        text-align: right;\n",
       "    }\n",
       "</style>\n",
       "<table border=\"1\" class=\"dataframe\">\n",
       "  <thead>\n",
       "    <tr style=\"text-align: right;\">\n",
       "      <th></th>\n",
       "      <th>0</th>\n",
       "    </tr>\n",
       "  </thead>\n",
       "  <tbody>\n",
       "    <tr>\n",
       "      <th>0</th>\n",
       "      <td>label</td>\n",
       "    </tr>\n",
       "    <tr>\n",
       "      <th>1</th>\n",
       "      <td>sessions</td>\n",
       "    </tr>\n",
       "    <tr>\n",
       "      <th>2</th>\n",
       "      <td>drives</td>\n",
       "    </tr>\n",
       "    <tr>\n",
       "      <th>3</th>\n",
       "      <td>total_sessions</td>\n",
       "    </tr>\n",
       "    <tr>\n",
       "      <th>4</th>\n",
       "      <td>n_days_after_onboarding</td>\n",
       "    </tr>\n",
       "    <tr>\n",
       "      <th>5</th>\n",
       "      <td>total_navigations_fav1</td>\n",
       "    </tr>\n",
       "    <tr>\n",
       "      <th>6</th>\n",
       "      <td>total_navigations_fav2</td>\n",
       "    </tr>\n",
       "    <tr>\n",
       "      <th>7</th>\n",
       "      <td>driven_km_drives</td>\n",
       "    </tr>\n",
       "    <tr>\n",
       "      <th>8</th>\n",
       "      <td>duration_minutes_drives</td>\n",
       "    </tr>\n",
       "    <tr>\n",
       "      <th>9</th>\n",
       "      <td>activity_days</td>\n",
       "    </tr>\n",
       "    <tr>\n",
       "      <th>10</th>\n",
       "      <td>driving_days</td>\n",
       "    </tr>\n",
       "    <tr>\n",
       "      <th>11</th>\n",
       "      <td>device</td>\n",
       "    </tr>\n",
       "  </tbody>\n",
       "</table>\n",
       "</div>"
      ],
      "text/plain": [
       "                          0\n",
       "0                     label\n",
       "1                  sessions\n",
       "2                    drives\n",
       "3            total_sessions\n",
       "4   n_days_after_onboarding\n",
       "5    total_navigations_fav1\n",
       "6    total_navigations_fav2\n",
       "7          driven_km_drives\n",
       "8   duration_minutes_drives\n",
       "9             activity_days\n",
       "10             driving_days\n",
       "11                   device"
      ]
     },
     "execution_count": 506,
     "metadata": {},
     "output_type": "execute_result"
    }
   ],
   "source": [
    "pd.DataFrame(df.columns)"
   ]
  },
  {
   "cell_type": "code",
   "execution_count": 507,
   "metadata": {
    "scrolled": true
   },
   "outputs": [
    {
     "data": {
      "image/png": "[encoded data removed]",
      "text/plain": [
       "<Figure size 1000x500 with 1 Axes>"
      ]
     },
     "metadata": {},
     "output_type": "display_data"
    }
   ],
   "source": [
    "sns.set()\n",
    "plt.figure(figsize=(10,5))\n",
    "sns.histplot( y=df['total_navigations_fav1']+df['total_navigations_fav2'], label='total navigations favorites 1+2')\n",
    "sns.histplot( y=df['total_sessions'], label='total sessions')\n",
    "#plt.xticks(rotation=45, horizontalalignment='right')\n",
    "plt.ylabel('Total app usages')\n",
    "plt.legend(loc='best')\n",
    "plt.show()\n"
   ]
  },
  {
   "cell_type": "markdown",
   "metadata": {},
   "source": [
    "Observation:\n",
    "\n",
    "Navigation: a session where a drive happened.\n",
    "\n",
    "Session: how is it defined? I imagine sessions include app usages which lead to a drive and usages that did not lead to a drive.\n",
    "\n",
    "total_sessions is described in data dictionary as \"a model estimate of the total number of sessions since a user has onboarded\"\n",
    "\n",
    "If so, total sessions should always be greater than or equal to the total number of navigations to no matter the destination. In the histogram above we see that for some users with low usage of the app this is not met."
   ]
  },
  {
   "cell_type": "markdown",
   "metadata": {},
   "source": [
    "## Calculation of new features from original ones:"
   ]
  },
  {
   "cell_type": "code",
   "execution_count": 508,
   "metadata": {
    "scrolled": true
   },
   "outputs": [],
   "source": [
    "# km_per_driving_day:\n",
    "temp_series = df['driven_km_drives']/df['driving_days']\n",
    "temp_series[np.isinf(temp_series)] = 0\n",
    "df.insert(12, 'km_per_driving_day', temp_series )\n",
    "\n",
    "# percent_sessions_last_month:\n",
    "temp_series = df['sessions']/df['total_sessions']*100\n",
    "df.insert(13, 'percent_sessions_last_month', temp_series )\n",
    "\n",
    "# total_sessions_per_day:\n",
    "temp_series = df['total_sessions']/df['n_days_after_onboarding']\n",
    "temp_series[np.isinf(temp_series)] = 0\n",
    "df.insert(14, 'total_sessions_per_day', temp_series )\n",
    "\n",
    "# km_per_hour:\n",
    "temp_series = df['driven_km_drives']/df['duration_minutes_drives']*60\n",
    "temp_series[np.isinf(temp_series)] = 0\n",
    "df.insert(15, 'km_per_hour', temp_series )\n",
    "\n",
    "# km_per_drive:\n",
    "temp_series = df['driven_km_drives']/df['drives']\n",
    "temp_series[np.isinf(temp_series)] = 0\n",
    "df.insert(16, 'km_per_drive', temp_series )\n",
    "\n",
    "# percent_sessions_to_favorite:\n",
    "# percentage of total sessions that were used to navigate to one of the users' favorite places.\n",
    "# This is a proxy representation for the\n",
    "# percent of overall drives that are to a favorite place. Since total drives since onboarding\n",
    "# are not contained in this dataset, total sessions must serve as a reasonable approximation.\n",
    "# People whose drives to non-favorite places make up a higher percentage of their total drives\n",
    "# might be less likely to churn, since they're making more drives to less familiar places.\n",
    "\n",
    "temp_series = (df['total_navigations_fav1']+df['total_navigations_fav2'])/df['total_sessions']*100\n",
    "df.insert(17, 'percent_sessions_to_favorites', temp_series )\n",
    "\n"
   ]
  },
  {
   "cell_type": "markdown",
   "metadata": {},
   "source": [
    "### Check descriptive statistics of new features"
   ]
  },
  {
   "cell_type": "code",
   "execution_count": 509,
   "metadata": {
    "scrolled": true
   },
   "outputs": [
    {
     "data": {
      "text/html": [
       "<div>\n",
       "<style scoped>\n",
       "    .dataframe tbody tr th:only-of-type {\n",
       "        vertical-align: middle;\n",
       "    }\n",
       "\n",
       "    .dataframe tbody tr th {\n",
       "        vertical-align: top;\n",
       "    }\n",
       "\n",
       "    .dataframe thead th {\n",
       "        text-align: right;\n",
       "    }\n",
       "</style>\n",
       "<table border=\"1\" class=\"dataframe\">\n",
       "  <thead>\n",
       "    <tr style=\"text-align: right;\">\n",
       "      <th></th>\n",
       "      <th>km_per_driving_day</th>\n",
       "      <th>percent_sessions_last_month</th>\n",
       "      <th>total_sessions_per_day</th>\n",
       "      <th>km_per_hour</th>\n",
       "      <th>km_per_drive</th>\n",
       "      <th>percent_sessions_to_favorites</th>\n",
       "    </tr>\n",
       "  </thead>\n",
       "  <tbody>\n",
       "    <tr>\n",
       "      <th>count</th>\n",
       "      <td>14297.000000</td>\n",
       "      <td>14297.000000</td>\n",
       "      <td>14297.000000</td>\n",
       "      <td>14297.000000</td>\n",
       "      <td>14297.000000</td>\n",
       "      <td>14297.000000</td>\n",
       "    </tr>\n",
       "    <tr>\n",
       "      <th>mean</th>\n",
       "      <td>582.002438</td>\n",
       "      <td>44.979255</td>\n",
       "      <td>0.338255</td>\n",
       "      <td>190.744107</td>\n",
       "      <td>232.109414</td>\n",
       "      <td>158.090351</td>\n",
       "    </tr>\n",
       "    <tr>\n",
       "      <th>std</th>\n",
       "      <td>1038.314705</td>\n",
       "      <td>28.671590</td>\n",
       "      <td>1.319901</td>\n",
       "      <td>339.948098</td>\n",
       "      <td>615.877853</td>\n",
       "      <td>387.761788</td>\n",
       "    </tr>\n",
       "    <tr>\n",
       "      <th>min</th>\n",
       "      <td>0.000000</td>\n",
       "      <td>0.000000</td>\n",
       "      <td>0.000383</td>\n",
       "      <td>72.013095</td>\n",
       "      <td>0.000000</td>\n",
       "      <td>0.000000</td>\n",
       "    </tr>\n",
       "    <tr>\n",
       "      <th>25%</th>\n",
       "      <td>136.164991</td>\n",
       "      <td>19.692376</td>\n",
       "      <td>0.050865</td>\n",
       "      <td>90.639950</td>\n",
       "      <td>32.488158</td>\n",
       "      <td>20.606304</td>\n",
       "    </tr>\n",
       "    <tr>\n",
       "      <th>50%</th>\n",
       "      <td>273.555889</td>\n",
       "      <td>42.431025</td>\n",
       "      <td>0.100477</td>\n",
       "      <td>122.114927</td>\n",
       "      <td>72.947059</td>\n",
       "      <td>65.301506</td>\n",
       "    </tr>\n",
       "    <tr>\n",
       "      <th>75%</th>\n",
       "      <td>558.097377</td>\n",
       "      <td>68.722278</td>\n",
       "      <td>0.215264</td>\n",
       "      <td>193.243422</td>\n",
       "      <td>179.329377</td>\n",
       "      <td>164.277849</td>\n",
       "    </tr>\n",
       "    <tr>\n",
       "      <th>max</th>\n",
       "      <td>15420.234110</td>\n",
       "      <td>105.603627</td>\n",
       "      <td>39.763874</td>\n",
       "      <td>23642.920871</td>\n",
       "      <td>15777.426560</td>\n",
       "      <td>12186.806175</td>\n",
       "    </tr>\n",
       "  </tbody>\n",
       "</table>\n",
       "</div>"
      ],
      "text/plain": [
       "       km_per_driving_day  percent_sessions_last_month  \\\n",
       "count        14297.000000                 14297.000000   \n",
       "mean           582.002438                    44.979255   \n",
       "std           1038.314705                    28.671590   \n",
       "min              0.000000                     0.000000   \n",
       "25%            136.164991                    19.692376   \n",
       "50%            273.555889                    42.431025   \n",
       "75%            558.097377                    68.722278   \n",
       "max          15420.234110                   105.603627   \n",
       "\n",
       "       total_sessions_per_day   km_per_hour  km_per_drive  \\\n",
       "count            14297.000000  14297.000000  14297.000000   \n",
       "mean                 0.338255    190.744107    232.109414   \n",
       "std                  1.319901    339.948098    615.877853   \n",
       "min                  0.000383     72.013095      0.000000   \n",
       "25%                  0.050865     90.639950     32.488158   \n",
       "50%                  0.100477    122.114927     72.947059   \n",
       "75%                  0.215264    193.243422    179.329377   \n",
       "max                 39.763874  23642.920871  15777.426560   \n",
       "\n",
       "       percent_sessions_to_favorites  \n",
       "count                   14297.000000  \n",
       "mean                      158.090351  \n",
       "std                       387.761788  \n",
       "min                         0.000000  \n",
       "25%                        20.606304  \n",
       "50%                        65.301506  \n",
       "75%                       164.277849  \n",
       "max                     12186.806175  "
      ]
     },
     "execution_count": 509,
     "metadata": {},
     "output_type": "execute_result"
    }
   ],
   "source": [
    "df.describe()[['km_per_driving_day', 'percent_sessions_last_month', 'total_sessions_per_day', 'km_per_hour', 'km_per_drive',\n",
    "              'percent_sessions_to_favorites']]"
   ]
  },
  {
   "cell_type": "markdown",
   "metadata": {
    "jp-MarkdownHeadingCollapsed": true
   },
   "source": [
    "### Filter data based on new engineered features"
   ]
  },
  {
   "cell_type": "code",
   "execution_count": 510,
   "metadata": {},
   "outputs": [],
   "source": [
    "# Discard data points where df['total_navigations_fav1']+df['total_navigations_fav2'] is greater than total_sessions:\n",
    "\n",
    "mask_incoherent_data = False # too many data points are lost!!!\n",
    "if mask_incoherent_data == True:\n",
    "    temp_mask = df['percent_sessions_to_favorites'] <= 150 # use a less harder criterion than 100%\n",
    "    #temp_mask = df['percent_sessions_to_favorites'] <= 100\n",
    "    df_original_len = len(df) \n",
    "    df = df[temp_mask]\n",
    "    dfb_len_diff = df_original_len - len(df)\n",
    "    print ('{} rows weremoved by masking incoherent data\\n'.format(df_len_diff))"
   ]
  },
  {
   "cell_type": "code",
   "execution_count": 511,
   "metadata": {},
   "outputs": [
    {
     "data": {
      "image/png": "[encoded data removed]",
      "text/plain": [
       "<Figure size 1000x500 with 1 Axes>"
      ]
     },
     "metadata": {},
     "output_type": "display_data"
    }
   ],
   "source": [
    "sns.set()\n",
    "plt.figure(figsize=(10,5))\n",
    "sns.histplot(bins=80, y=df['total_navigations_fav1']+df['total_navigations_fav2'], label='total navigations favorites 1+2')\n",
    "sns.histplot(bins=80, y=df['total_sessions'], label='total sessions')\n",
    "#plt.xticks(rotation=45, horizontalalignment='right')\n",
    "plt.ylabel('Total app usages')\n",
    "plt.legend(loc='best')\n",
    "plt.show()"
   ]
  },
  {
   "cell_type": "code",
   "execution_count": 512,
   "metadata": {},
   "outputs": [
    {
     "data": {
      "text/html": [
       "<div>\n",
       "<style scoped>\n",
       "    .dataframe tbody tr th:only-of-type {\n",
       "        vertical-align: middle;\n",
       "    }\n",
       "\n",
       "    .dataframe tbody tr th {\n",
       "        vertical-align: top;\n",
       "    }\n",
       "\n",
       "    .dataframe thead th {\n",
       "        text-align: right;\n",
       "    }\n",
       "</style>\n",
       "<table border=\"1\" class=\"dataframe\">\n",
       "  <thead>\n",
       "    <tr style=\"text-align: right;\">\n",
       "      <th></th>\n",
       "      <th>km_per_driving_day</th>\n",
       "      <th>percent_sessions_last_month</th>\n",
       "      <th>total_sessions_per_day</th>\n",
       "      <th>km_per_hour</th>\n",
       "      <th>km_per_drive</th>\n",
       "      <th>percent_sessions_to_favorites</th>\n",
       "    </tr>\n",
       "  </thead>\n",
       "  <tbody>\n",
       "    <tr>\n",
       "      <th>count</th>\n",
       "      <td>14297.000000</td>\n",
       "      <td>14297.000000</td>\n",
       "      <td>14297.000000</td>\n",
       "      <td>14297.000000</td>\n",
       "      <td>14297.000000</td>\n",
       "      <td>14297.000000</td>\n",
       "    </tr>\n",
       "    <tr>\n",
       "      <th>mean</th>\n",
       "      <td>582.002438</td>\n",
       "      <td>44.979255</td>\n",
       "      <td>0.338255</td>\n",
       "      <td>190.744107</td>\n",
       "      <td>232.109414</td>\n",
       "      <td>158.090351</td>\n",
       "    </tr>\n",
       "    <tr>\n",
       "      <th>std</th>\n",
       "      <td>1038.314705</td>\n",
       "      <td>28.671590</td>\n",
       "      <td>1.319901</td>\n",
       "      <td>339.948098</td>\n",
       "      <td>615.877853</td>\n",
       "      <td>387.761788</td>\n",
       "    </tr>\n",
       "    <tr>\n",
       "      <th>min</th>\n",
       "      <td>0.000000</td>\n",
       "      <td>0.000000</td>\n",
       "      <td>0.000383</td>\n",
       "      <td>72.013095</td>\n",
       "      <td>0.000000</td>\n",
       "      <td>0.000000</td>\n",
       "    </tr>\n",
       "    <tr>\n",
       "      <th>25%</th>\n",
       "      <td>136.164991</td>\n",
       "      <td>19.692376</td>\n",
       "      <td>0.050865</td>\n",
       "      <td>90.639950</td>\n",
       "      <td>32.488158</td>\n",
       "      <td>20.606304</td>\n",
       "    </tr>\n",
       "    <tr>\n",
       "      <th>50%</th>\n",
       "      <td>273.555889</td>\n",
       "      <td>42.431025</td>\n",
       "      <td>0.100477</td>\n",
       "      <td>122.114927</td>\n",
       "      <td>72.947059</td>\n",
       "      <td>65.301506</td>\n",
       "    </tr>\n",
       "    <tr>\n",
       "      <th>75%</th>\n",
       "      <td>558.097377</td>\n",
       "      <td>68.722278</td>\n",
       "      <td>0.215264</td>\n",
       "      <td>193.243422</td>\n",
       "      <td>179.329377</td>\n",
       "      <td>164.277849</td>\n",
       "    </tr>\n",
       "    <tr>\n",
       "      <th>max</th>\n",
       "      <td>15420.234110</td>\n",
       "      <td>105.603627</td>\n",
       "      <td>39.763874</td>\n",
       "      <td>23642.920871</td>\n",
       "      <td>15777.426560</td>\n",
       "      <td>12186.806175</td>\n",
       "    </tr>\n",
       "  </tbody>\n",
       "</table>\n",
       "</div>"
      ],
      "text/plain": [
       "       km_per_driving_day  percent_sessions_last_month  \\\n",
       "count        14297.000000                 14297.000000   \n",
       "mean           582.002438                    44.979255   \n",
       "std           1038.314705                    28.671590   \n",
       "min              0.000000                     0.000000   \n",
       "25%            136.164991                    19.692376   \n",
       "50%            273.555889                    42.431025   \n",
       "75%            558.097377                    68.722278   \n",
       "max          15420.234110                   105.603627   \n",
       "\n",
       "       total_sessions_per_day   km_per_hour  km_per_drive  \\\n",
       "count            14297.000000  14297.000000  14297.000000   \n",
       "mean                 0.338255    190.744107    232.109414   \n",
       "std                  1.319901    339.948098    615.877853   \n",
       "min                  0.000383     72.013095      0.000000   \n",
       "25%                  0.050865     90.639950     32.488158   \n",
       "50%                  0.100477    122.114927     72.947059   \n",
       "75%                  0.215264    193.243422    179.329377   \n",
       "max                 39.763874  23642.920871  15777.426560   \n",
       "\n",
       "       percent_sessions_to_favorites  \n",
       "count                   14297.000000  \n",
       "mean                      158.090351  \n",
       "std                       387.761788  \n",
       "min                         0.000000  \n",
       "25%                        20.606304  \n",
       "50%                        65.301506  \n",
       "75%                       164.277849  \n",
       "max                     12186.806175  "
      ]
     },
     "execution_count": 512,
     "metadata": {},
     "output_type": "execute_result"
    }
   ],
   "source": [
    "df.describe()[['km_per_driving_day', 'percent_sessions_last_month', 'total_sessions_per_day', 'km_per_hour', 'km_per_drive',\n",
    "              'percent_sessions_to_favorites']]"
   ]
  },
  {
   "cell_type": "code",
   "execution_count": 513,
   "metadata": {},
   "outputs": [
    {
     "data": {
      "text/plain": [
       "4362     12186.806175\n",
       "4868     11349.703590\n",
       "11761     8784.944579\n",
       "2181      8529.347333\n",
       "12925     8430.356422\n",
       "13270     8294.555721\n",
       "4761      7811.677038\n",
       "1181      7517.842024\n",
       "10823     6556.891899\n",
       "6048      6237.911778\n",
       "5054      5972.910158\n",
       "12340     5562.011748\n",
       "11964     5208.070987\n",
       "9777      5192.179435\n",
       "6208      5098.918575\n",
       "14605     5021.349761\n",
       "8459      5019.132616\n",
       "3857      4872.585866\n",
       "11227     4858.826715\n",
       "1461      4763.069686\n",
       "Name: percent_sessions_to_favorites, dtype: float64"
      ]
     },
     "execution_count": 513,
     "metadata": {},
     "output_type": "execute_result"
    }
   ],
   "source": [
    "df['percent_sessions_to_favorites'].sort_values(ascending=False).head(20)"
   ]
  },
  {
   "cell_type": "markdown",
   "metadata": {
    "id": "TjgkLrOf_OrE"
   },
   "source": [
    "### Feature **`professional_driver`**\n",
    "\n",
    "Create a new, binary feature called `professional_driver` that is a 1 for users who had 60 or more drives <u>**and**</u> drove on 15+ days in the last month.\n",
    "\n",
    "**Note:** The objective is to create a new feature that separates professional drivers from other drivers. In this scenario, domain knowledge and intuition are used to determine these deciding thresholds, but ultimately they are arbitrary."
   ]
  },
  {
   "cell_type": "markdown",
   "metadata": {
    "id": "L5UK5jR6U9t1"
   },
   "source": [
    "To create this column, use the [`np.where()`](https://numpy.org/doc/stable/reference/generated/numpy.where.html) function. This function accepts as arguments:\n",
    "1. A condition\n",
    "2. What to return when the condition is true\n",
    "3. What to return when the condition is false\n",
    "\n",
    "```\n",
    "Example:\n",
    "x = [1, 2, 3]\n",
    "x = np.where(x > 2, 100, 0)\n",
    "x\n",
    "array([  0,   0, 100])\n",
    "```"
   ]
  },
  {
   "cell_type": "code",
   "execution_count": 514,
   "metadata": {
    "id": "dQdMgikKU-5T"
   },
   "outputs": [
    {
     "data": {
      "text/html": [
       "<div>\n",
       "<style scoped>\n",
       "    .dataframe tbody tr th:only-of-type {\n",
       "        vertical-align: middle;\n",
       "    }\n",
       "\n",
       "    .dataframe tbody tr th {\n",
       "        vertical-align: top;\n",
       "    }\n",
       "\n",
       "    .dataframe thead th {\n",
       "        text-align: right;\n",
       "    }\n",
       "</style>\n",
       "<table border=\"1\" class=\"dataframe\">\n",
       "  <thead>\n",
       "    <tr style=\"text-align: right;\">\n",
       "      <th></th>\n",
       "      <th>label</th>\n",
       "      <th>sessions</th>\n",
       "      <th>drives</th>\n",
       "      <th>total_sessions</th>\n",
       "      <th>n_days_after_onboarding</th>\n",
       "      <th>total_navigations_fav1</th>\n",
       "      <th>total_navigations_fav2</th>\n",
       "      <th>driven_km_drives</th>\n",
       "      <th>duration_minutes_drives</th>\n",
       "      <th>activity_days</th>\n",
       "      <th>driving_days</th>\n",
       "      <th>device</th>\n",
       "      <th>km_per_driving_day</th>\n",
       "      <th>percent_sessions_last_month</th>\n",
       "      <th>total_sessions_per_day</th>\n",
       "      <th>km_per_hour</th>\n",
       "      <th>km_per_drive</th>\n",
       "      <th>percent_sessions_to_favorites</th>\n",
       "      <th>pro_driver</th>\n",
       "    </tr>\n",
       "  </thead>\n",
       "  <tbody>\n",
       "    <tr>\n",
       "      <th>0</th>\n",
       "      <td>retained</td>\n",
       "      <td>283</td>\n",
       "      <td>226</td>\n",
       "      <td>296.748273</td>\n",
       "      <td>2276</td>\n",
       "      <td>208</td>\n",
       "      <td>0</td>\n",
       "      <td>2628.845068</td>\n",
       "      <td>1985.775061</td>\n",
       "      <td>28</td>\n",
       "      <td>19</td>\n",
       "      <td>Android</td>\n",
       "      <td>138.360267</td>\n",
       "      <td>95.367025</td>\n",
       "      <td>0.130381</td>\n",
       "      <td>79.430298</td>\n",
       "      <td>11.632058</td>\n",
       "      <td>70.093079</td>\n",
       "      <td>1</td>\n",
       "    </tr>\n",
       "    <tr>\n",
       "      <th>1</th>\n",
       "      <td>retained</td>\n",
       "      <td>133</td>\n",
       "      <td>107</td>\n",
       "      <td>326.896596</td>\n",
       "      <td>1225</td>\n",
       "      <td>19</td>\n",
       "      <td>64</td>\n",
       "      <td>13715.920550</td>\n",
       "      <td>3160.472914</td>\n",
       "      <td>13</td>\n",
       "      <td>11</td>\n",
       "      <td>iPhone</td>\n",
       "      <td>1246.901868</td>\n",
       "      <td>40.685648</td>\n",
       "      <td>0.266854</td>\n",
       "      <td>260.389902</td>\n",
       "      <td>128.186173</td>\n",
       "      <td>25.390292</td>\n",
       "      <td>0</td>\n",
       "    </tr>\n",
       "    <tr>\n",
       "      <th>2</th>\n",
       "      <td>retained</td>\n",
       "      <td>114</td>\n",
       "      <td>95</td>\n",
       "      <td>135.522926</td>\n",
       "      <td>2651</td>\n",
       "      <td>0</td>\n",
       "      <td>0</td>\n",
       "      <td>3059.148818</td>\n",
       "      <td>1610.735904</td>\n",
       "      <td>14</td>\n",
       "      <td>8</td>\n",
       "      <td>Android</td>\n",
       "      <td>382.393602</td>\n",
       "      <td>84.118609</td>\n",
       "      <td>0.051121</td>\n",
       "      <td>113.953460</td>\n",
       "      <td>32.201567</td>\n",
       "      <td>0.000000</td>\n",
       "      <td>0</td>\n",
       "    </tr>\n",
       "    <tr>\n",
       "      <th>3</th>\n",
       "      <td>retained</td>\n",
       "      <td>49</td>\n",
       "      <td>40</td>\n",
       "      <td>67.589221</td>\n",
       "      <td>15</td>\n",
       "      <td>322</td>\n",
       "      <td>7</td>\n",
       "      <td>913.591123</td>\n",
       "      <td>587.196542</td>\n",
       "      <td>7</td>\n",
       "      <td>3</td>\n",
       "      <td>iPhone</td>\n",
       "      <td>304.530374</td>\n",
       "      <td>72.496767</td>\n",
       "      <td>4.505948</td>\n",
       "      <td>93.351141</td>\n",
       "      <td>22.839778</td>\n",
       "      <td>486.764004</td>\n",
       "      <td>0</td>\n",
       "    </tr>\n",
       "    <tr>\n",
       "      <th>4</th>\n",
       "      <td>retained</td>\n",
       "      <td>84</td>\n",
       "      <td>68</td>\n",
       "      <td>168.247020</td>\n",
       "      <td>1562</td>\n",
       "      <td>166</td>\n",
       "      <td>5</td>\n",
       "      <td>3950.202008</td>\n",
       "      <td>1219.555924</td>\n",
       "      <td>27</td>\n",
       "      <td>18</td>\n",
       "      <td>Android</td>\n",
       "      <td>219.455667</td>\n",
       "      <td>49.926590</td>\n",
       "      <td>0.107713</td>\n",
       "      <td>194.342970</td>\n",
       "      <td>58.091206</td>\n",
       "      <td>101.636273</td>\n",
       "      <td>1</td>\n",
       "    </tr>\n",
       "  </tbody>\n",
       "</table>\n",
       "</div>"
      ],
      "text/plain": [
       "      label  sessions  drives  total_sessions  n_days_after_onboarding  \\\n",
       "0  retained       283     226      296.748273                     2276   \n",
       "1  retained       133     107      326.896596                     1225   \n",
       "2  retained       114      95      135.522926                     2651   \n",
       "3  retained        49      40       67.589221                       15   \n",
       "4  retained        84      68      168.247020                     1562   \n",
       "\n",
       "   total_navigations_fav1  total_navigations_fav2  driven_km_drives  \\\n",
       "0                     208                       0       2628.845068   \n",
       "1                      19                      64      13715.920550   \n",
       "2                       0                       0       3059.148818   \n",
       "3                     322                       7        913.591123   \n",
       "4                     166                       5       3950.202008   \n",
       "\n",
       "   duration_minutes_drives  activity_days  driving_days   device  \\\n",
       "0              1985.775061             28            19  Android   \n",
       "1              3160.472914             13            11   iPhone   \n",
       "2              1610.735904             14             8  Android   \n",
       "3               587.196542              7             3   iPhone   \n",
       "4              1219.555924             27            18  Android   \n",
       "\n",
       "   km_per_driving_day  percent_sessions_last_month  total_sessions_per_day  \\\n",
       "0          138.360267                    95.367025                0.130381   \n",
       "1         1246.901868                    40.685648                0.266854   \n",
       "2          382.393602                    84.118609                0.051121   \n",
       "3          304.530374                    72.496767                4.505948   \n",
       "4          219.455667                    49.926590                0.107713   \n",
       "\n",
       "   km_per_hour  km_per_drive  percent_sessions_to_favorites  pro_driver  \n",
       "0    79.430298     11.632058                      70.093079           1  \n",
       "1   260.389902    128.186173                      25.390292           0  \n",
       "2   113.953460     32.201567                       0.000000           0  \n",
       "3    93.351141     22.839778                     486.764004           0  \n",
       "4   194.342970     58.091206                     101.636273           1  "
      ]
     },
     "execution_count": 514,
     "metadata": {},
     "output_type": "execute_result"
    }
   ],
   "source": [
    "temp_mask = (df['drives'] >= 60) & (df['driving_days'] >= 15)\n",
    "temp_list = np.where(temp_mask, 1, 0)\n",
    "df.insert(18, 'pro_driver', temp_list)\n",
    "df.head()thres"
   ]
  },
  {
   "cell_type": "markdown",
   "metadata": {
    "id": "IZO0mvHRWGmF"
   },
   "source": [
    "### **Check for missing values again**\n",
    "\n",
    "Because you know from previous EDA that there is no evidence of a non-random cause of the 700 missing values in the `label` column, and because these observations comprise less than 5% of the data, use the `dropna()` method to drop the rows that are missing this data."
   ]
  },
  {
   "cell_type": "code",
   "execution_count": 515,
   "metadata": {
    "id": "2TdA6SnGWJY-"
   },
   "outputs": [
    {
     "name": "stdout",
     "output_type": "stream",
     "text": [
      "label                            0\n",
      "sessions                         0\n",
      "drives                           0\n",
      "total_sessions                   0\n",
      "n_days_after_onboarding          0\n",
      "total_navigations_fav1           0\n",
      "total_navigations_fav2           0\n",
      "driven_km_drives                 0\n",
      "duration_minutes_drives          0\n",
      "activity_days                    0\n",
      "driving_days                     0\n",
      "device                           0\n",
      "km_per_driving_day               0\n",
      "percent_sessions_last_month      0\n",
      "total_sessions_per_day           0\n",
      "km_per_hour                      0\n",
      "km_per_drive                     0\n",
      "percent_sessions_to_favorites    0\n",
      "pro_driver                       0\n",
      "dtype: int64\n"
     ]
    }
   ],
   "source": [
    "print(df.isna().sum())"
   ]
  },
  {
   "cell_type": "markdown",
   "metadata": {
    "id": "Du5kGt5CWJ4J",
    "jp-MarkdownHeadingCollapsed": true
   },
   "source": [
    "# **Task 4. Check for Outliers**\n",
    "Altough tree-based models are resilient to outliers, some of them may refelct erroneous data."
   ]
  },
  {
   "cell_type": "code",
   "execution_count": 516,
   "metadata": {},
   "outputs": [
    {
     "data": {
      "image/png": "[encoded data removed]",
      "text/plain": [
       "<Figure size 1200x500 with 1 Axes>"
      ]
     },
     "metadata": {},
     "output_type": "display_data"
    }
   ],
   "source": [
    "def df_boxplot(df):\n",
    "    '''df is the input dataframe for plotting'''\n",
    "    sns.set()\n",
    "    df.boxplot(figsize=(12,5))\n",
    "    plt.xticks(rotation=45, horizontalalignment='right')\n",
    "    plt.yscale('log')\n",
    "    plt.show()\n",
    "    \n",
    "df_boxplot(df)\n"
   ]
  },
  {
   "cell_type": "code",
   "execution_count": 517,
   "metadata": {},
   "outputs": [
    {
     "name": "stdout",
     "output_type": "stream",
     "text": [
      "2 rows weremoved by masking unrealistic data\n",
      "\n"
     ]
    }
   ],
   "source": [
    "# Discard data points with unrealistic outliers:\n",
    "mask_incoherent_data2 = True\n",
    "if mask_incoherent_data2 == True:\n",
    "    temp_mask = (df['km_per_drive'] < 2000) & (df['km_per_hour'] < 200) & (df['km_per_driving_day'] < 2200)\n",
    "    df_original_len = len(df) \n",
    "    df = df[temp_mask]\n",
    "    df_len_diff = df_original_len - len(df)\n",
    "    print ('{} rows weremoved by masking unrealistic data\\n'.format(df_len_diff))"
   ]
  },
  {
   "cell_type": "code",
   "execution_count": 518,
   "metadata": {
    "scrolled": true
   },
   "outputs": [
    {
     "data": {
      "image/png": "[encoded data removed]",
      "text/plain": [
       "<Figure size 1200x500 with 1 Axes>"
      ]
     },
     "metadata": {},
     "output_type": "display_data"
    }
   ],
   "source": [
    "df_boxplot(df)"
   ]
  },
  {
   "cell_type": "code",
   "execution_count": 519,
   "metadata": {
    "scrolled": true
   },
   "outputs": [
    {
     "data": {
      "text/html": [
       "<div>\n",
       "<style scoped>\n",
       "    .dataframe tbody tr th:only-of-type {\n",
       "        vertical-align: middle;\n",
       "    }\n",
       "\n",
       "    .dataframe tbody tr th {\n",
       "        vertical-align: top;\n",
       "    }\n",
       "\n",
       "    .dataframe thead th {\n",
       "        text-align: right;\n",
       "    }\n",
       "</style>\n",
       "<table border=\"1\" class=\"dataframe\">\n",
       "  <thead>\n",
       "    <tr style=\"text-align: right;\">\n",
       "      <th></th>\n",
       "      <th>km_per_driving_day</th>\n",
       "      <th>percent_sessions_last_month</th>\n",
       "      <th>total_sessions_per_day</th>\n",
       "      <th>km_per_hour</th>\n",
       "      <th>km_per_drive</th>\n",
       "      <th>percent_sessions_to_favorites</th>\n",
       "    </tr>\n",
       "  </thead>\n",
       "  <tbody>\n",
       "    <tr>\n",
       "      <th>count</th>\n",
       "      <td>10225.000000</td>\n",
       "      <td>10225.000000</td>\n",
       "      <td>10225.000000</td>\n",
       "      <td>10225.000000</td>\n",
       "      <td>10225.000000</td>\n",
       "      <td>10225.000000</td>\n",
       "    </tr>\n",
       "    <tr>\n",
       "      <th>mean</th>\n",
       "      <td>374.925180</td>\n",
       "      <td>45.578955</td>\n",
       "      <td>0.338674</td>\n",
       "      <td>113.707276</td>\n",
       "      <td>158.962416</td>\n",
       "      <td>150.344473</td>\n",
       "    </tr>\n",
       "    <tr>\n",
       "      <th>std</th>\n",
       "      <td>399.470414</td>\n",
       "      <td>28.414949</td>\n",
       "      <td>1.273863</td>\n",
       "      <td>33.856773</td>\n",
       "      <td>263.959586</td>\n",
       "      <td>338.925768</td>\n",
       "    </tr>\n",
       "    <tr>\n",
       "      <th>min</th>\n",
       "      <td>0.000000</td>\n",
       "      <td>0.000000</td>\n",
       "      <td>0.000383</td>\n",
       "      <td>72.013095</td>\n",
       "      <td>0.000000</td>\n",
       "      <td>0.000000</td>\n",
       "    </tr>\n",
       "    <tr>\n",
       "      <th>25%</th>\n",
       "      <td>123.081966</td>\n",
       "      <td>20.775262</td>\n",
       "      <td>0.052084</td>\n",
       "      <td>85.298220</td>\n",
       "      <td>29.484711</td>\n",
       "      <td>20.577163</td>\n",
       "    </tr>\n",
       "    <tr>\n",
       "      <th>50%</th>\n",
       "      <td>242.134183</td>\n",
       "      <td>43.198704</td>\n",
       "      <td>0.102127</td>\n",
       "      <td>104.728550</td>\n",
       "      <td>66.091430</td>\n",
       "      <td>64.058089</td>\n",
       "    </tr>\n",
       "    <tr>\n",
       "      <th>75%</th>\n",
       "      <td>468.936652</td>\n",
       "      <td>69.096074</td>\n",
       "      <td>0.219796</td>\n",
       "      <td>135.842873</td>\n",
       "      <td>157.767904</td>\n",
       "      <td>162.372972</td>\n",
       "    </tr>\n",
       "    <tr>\n",
       "      <th>max</th>\n",
       "      <td>2199.966476</td>\n",
       "      <td>105.603627</td>\n",
       "      <td>36.214238</td>\n",
       "      <td>199.996738</td>\n",
       "      <td>1966.263323</td>\n",
       "      <td>11349.703590</td>\n",
       "    </tr>\n",
       "  </tbody>\n",
       "</table>\n",
       "</div>"
      ],
      "text/plain": [
       "       km_per_driving_day  percent_sessions_last_month  \\\n",
       "count        10225.000000                 10225.000000   \n",
       "mean           374.925180                    45.578955   \n",
       "std            399.470414                    28.414949   \n",
       "min              0.000000                     0.000000   \n",
       "25%            123.081966                    20.775262   \n",
       "50%            242.134183                    43.198704   \n",
       "75%            468.936652                    69.096074   \n",
       "max           2199.966476                   105.603627   \n",
       "\n",
       "       total_sessions_per_day   km_per_hour  km_per_drive  \\\n",
       "count            10225.000000  10225.000000  10225.000000   \n",
       "mean                 0.338674    113.707276    158.962416   \n",
       "std                  1.273863     33.856773    263.959586   \n",
       "min                  0.000383     72.013095      0.000000   \n",
       "25%                  0.052084     85.298220     29.484711   \n",
       "50%                  0.102127    104.728550     66.091430   \n",
       "75%                  0.219796    135.842873    157.767904   \n",
       "max                 36.214238    199.996738   1966.263323   \n",
       "\n",
       "       percent_sessions_to_favorites  \n",
       "count                   10225.000000  \n",
       "mean                      150.344473  \n",
       "std                       338.925768  \n",
       "min                         0.000000  \n",
       "25%                        20.577163  \n",
       "50%                        64.058089  \n",
       "75%                       162.372972  \n",
       "max                     11349.703590  "
      ]
     },
     "execution_count": 519,
     "metadata": {},
     "output_type": "execute_result"
    }
   ],
   "source": [
    "df.describe()[['km_per_driving_day', 'percent_sessions_last_month', 'total_sessions_per_day', 'km_per_hour', 'km_per_drive',\n",
    "              'percent_sessions_to_favorites']]"
   ]
  },
  {
   "cell_type": "markdown",
   "metadata": {
    "jp-MarkdownHeadingCollapsed": true
   },
   "source": [
    "# **Task 5. Variable Encoding**"
   ]
  },
  {
   "cell_type": "code",
   "execution_count": 520,
   "metadata": {},
   "outputs": [],
   "source": [
    "def column_encode(df, column, map_dictionary):\n",
    "    '''Inserts a new column after the given one\n",
    "    transformed to the values given in dictionary'''\n",
    "\n",
    "    new_column = df[column].map(map_dictionary)\n",
    "    new_colum_name = column +'_encoded'\n",
    "    df.insert(df.columns.get_loc(column)+1, column=new_colum_name, value=new_column)\n",
    "\n",
    "    # Check proportions are kept:\n",
    "    a = df[column].value_counts(normalize=True).values.all()\n",
    "    b = df[new_colum_name].value_counts(normalize=True).values.all()\n",
    "    if a == b:\n",
    "        print('Column transform success with {} and proportions\\n {}\\n'.format(map_dictionary, df[column].value_counts(normalize=True)))\n",
    "    else:\n",
    "        print('Column transform failure with {}\\n {}\\n and {}\\n'.format(map_dictionary, a, b))"
   ]
  },
  {
   "cell_type": "code",
   "execution_count": 521,
   "metadata": {},
   "outputs": [
    {
     "name": "stdout",
     "output_type": "stream",
     "text": [
      "Column transform success with {'Android': 1, 'iPhone': 2} and proportions\n",
      " device\n",
      "iPhone     0.643227\n",
      "Android    0.356773\n",
      "Name: proportion, dtype: float64\n",
      "\n",
      "Column transform success with {'retained': 0, 'churned': 1} and proportions\n",
      " label\n",
      "retained    0.827775\n",
      "churned     0.172225\n",
      "Name: proportion, dtype: float64\n",
      "\n"
     ]
    }
   ],
   "source": [
    "column_encode(df, 'device', {'Android':1, 'iPhone':2})\n",
    "column_encode(df, 'label', {'retained':0, 'churned':1})"
   ]
  },
  {
   "cell_type": "markdown",
   "metadata": {
    "id": "ajj50RCCaXrF"
   },
   "source": [
    "### **Evaluation Metric and Class Balance**\n",
    "\n",
    "Before modeling, you must decide on an evaluation metric. This will depend on the class balance of the target variable and the use case of the model.\n",
    "\n",
    "First, examine the class balance of your target variable."
   ]
  },
  {
   "cell_type": "code",
   "execution_count": 522,
   "metadata": {
    "id": "3JkjEYByaYbr"
   },
   "outputs": [
    {
     "data": {
      "text/plain": [
       "label\n",
       "retained    0.827775\n",
       "churned     0.172225\n",
       "Name: proportion, dtype: float64"
      ]
     },
     "execution_count": 522,
     "metadata": {},
     "output_type": "execute_result"
    }
   ],
   "source": [
    "df['label'].value_counts(normalize=True)"
   ]
  },
  {
   "cell_type": "markdown",
   "metadata": {
    "id": "w9vnV1wtaZWJ"
   },
   "source": [
    "Approximately 17% of the users in this dataset churned. This is an unbalanced dataset, but not extremely so. It can be modeled without any class rebalancing.\n",
    "\n",
    "Now, consider which evaluation metric is best. Remember, accuracy might not be the best gauge of performance because a model can have high accuracy on an imbalanced dataset and still fail to predict the minority class.\n",
    "\n",
    "It was already determined that the risks involved in making a false positive prediction are minimal. No one stands to get hurt, lose money, or suffer any other significant consequence if they are predicted to churn. Therefore, select the model based on the recall score."
   ]
  },
  {
   "cell_type": "markdown",
   "metadata": {
    "id": "G5jzGjOS8iiv"
   },
   "source": [
    "# **Modeling Workflow and Model Selection**\n",
    "\n",
    "The final modeling dataset contains 14,299 samples. This is towards the lower end of what might be considered sufficient to conduct a robust model selection process, but still doable.\n",
    "\n",
    "1. Split the data into train/validation/test sets (60/20/20)\n",
    "\n",
    "Note that, when deciding the split ratio and whether or not to use a validation set to select a champion model, consider both how many samples will be in each data partition, and how many examples of the minority class each would therefore contain. In this case, a 60/20/20 split would result in \\~2,860 samples in the validation set and the same number in the test set, of which \\~18%&mdash;or 515 samples&mdash;would represent users who churn.\n",
    "2. Fit models and tune hyperparameters on the training set\n",
    "3. Perform final model selection on the validation set\n",
    "4. Assess the champion model's performance on the test set\n",
    "\n",
    "![](https://raw.githubusercontent.com/adacert/tiktok/main/optimal_model_flow_numbered.svg)"
   ]
  },
  {
   "cell_type": "markdown",
   "metadata": {
    "id": "Nx41bVxX89Fe",
    "jp-MarkdownHeadingCollapsed": true
   },
   "source": [
    "# **Task 6. Split the Data**\n",
    "Split the interim training set 75/25 into a training set and a validation set, yielding a final ratio of 60/20/20 for training/validation/test sets. Again, don't forget to stratify the splits and set the random state."
   ]
  },
  {
   "cell_type": "code",
   "execution_count": 523,
   "metadata": {
    "id": "qLbapbSWDUL-",
    "scrolled": true
   },
   "outputs": [
    {
     "data": {
      "text/html": [
       "<div>\n",
       "<style scoped>\n",
       "    .dataframe tbody tr th:only-of-type {\n",
       "        vertical-align: middle;\n",
       "    }\n",
       "\n",
       "    .dataframe tbody tr th {\n",
       "        vertical-align: top;\n",
       "    }\n",
       "\n",
       "    .dataframe thead th {\n",
       "        text-align: right;\n",
       "    }\n",
       "</style>\n",
       "<table border=\"1\" class=\"dataframe\">\n",
       "  <thead>\n",
       "    <tr style=\"text-align: right;\">\n",
       "      <th></th>\n",
       "      <th>0</th>\n",
       "    </tr>\n",
       "  </thead>\n",
       "  <tbody>\n",
       "    <tr>\n",
       "      <th>0</th>\n",
       "      <td>label</td>\n",
       "    </tr>\n",
       "    <tr>\n",
       "      <th>1</th>\n",
       "      <td>label_encoded</td>\n",
       "    </tr>\n",
       "    <tr>\n",
       "      <th>2</th>\n",
       "      <td>sessions</td>\n",
       "    </tr>\n",
       "    <tr>\n",
       "      <th>3</th>\n",
       "      <td>drives</td>\n",
       "    </tr>\n",
       "    <tr>\n",
       "      <th>4</th>\n",
       "      <td>total_sessions</td>\n",
       "    </tr>\n",
       "    <tr>\n",
       "      <th>5</th>\n",
       "      <td>n_days_after_onboarding</td>\n",
       "    </tr>\n",
       "    <tr>\n",
       "      <th>6</th>\n",
       "      <td>total_navigations_fav1</td>\n",
       "    </tr>\n",
       "    <tr>\n",
       "      <th>7</th>\n",
       "      <td>total_navigations_fav2</td>\n",
       "    </tr>\n",
       "    <tr>\n",
       "      <th>8</th>\n",
       "      <td>driven_km_drives</td>\n",
       "    </tr>\n",
       "    <tr>\n",
       "      <th>9</th>\n",
       "      <td>duration_minutes_drives</td>\n",
       "    </tr>\n",
       "    <tr>\n",
       "      <th>10</th>\n",
       "      <td>activity_days</td>\n",
       "    </tr>\n",
       "    <tr>\n",
       "      <th>11</th>\n",
       "      <td>driving_days</td>\n",
       "    </tr>\n",
       "    <tr>\n",
       "      <th>12</th>\n",
       "      <td>device</td>\n",
       "    </tr>\n",
       "    <tr>\n",
       "      <th>13</th>\n",
       "      <td>device_encoded</td>\n",
       "    </tr>\n",
       "    <tr>\n",
       "      <th>14</th>\n",
       "      <td>km_per_driving_day</td>\n",
       "    </tr>\n",
       "    <tr>\n",
       "      <th>15</th>\n",
       "      <td>percent_sessions_last_month</td>\n",
       "    </tr>\n",
       "    <tr>\n",
       "      <th>16</th>\n",
       "      <td>total_sessions_per_day</td>\n",
       "    </tr>\n",
       "    <tr>\n",
       "      <th>17</th>\n",
       "      <td>km_per_hour</td>\n",
       "    </tr>\n",
       "    <tr>\n",
       "      <th>18</th>\n",
       "      <td>km_per_drive</td>\n",
       "    </tr>\n",
       "    <tr>\n",
       "      <th>19</th>\n",
       "      <td>percent_sessions_to_favorites</td>\n",
       "    </tr>\n",
       "    <tr>\n",
       "      <th>20</th>\n",
       "      <td>pro_driver</td>\n",
       "    </tr>\n",
       "  </tbody>\n",
       "</table>\n",
       "</div>"
      ],
      "text/plain": [
       "                                0\n",
       "0                           label\n",
       "1                   label_encoded\n",
       "2                        sessions\n",
       "3                          drives\n",
       "4                  total_sessions\n",
       "5         n_days_after_onboarding\n",
       "6          total_navigations_fav1\n",
       "7          total_navigations_fav2\n",
       "8                driven_km_drives\n",
       "9         duration_minutes_drives\n",
       "10                  activity_days\n",
       "11                   driving_days\n",
       "12                         device\n",
       "13                 device_encoded\n",
       "14             km_per_driving_day\n",
       "15    percent_sessions_last_month\n",
       "16         total_sessions_per_day\n",
       "17                    km_per_hour\n",
       "18                   km_per_drive\n",
       "19  percent_sessions_to_favorites\n",
       "20                     pro_driver"
      ]
     },
     "execution_count": 523,
     "metadata": {},
     "output_type": "execute_result"
    }
   ],
   "source": [
    "pd.DataFrame(df.columns)"
   ]
  },
  {
   "cell_type": "code",
   "execution_count": 524,
   "metadata": {
    "scrolled": true
   },
   "outputs": [
    {
     "data": {
      "text/plain": [
       "['sessions',\n",
       " 'km_per_hour',\n",
       " 'device_encoded',\n",
       " 'percent_sessions_last_month',\n",
       " 'activity_days',\n",
       " 'n_days_after_onboarding',\n",
       " 'total_navigations_fav1',\n",
       " 'pro_driver',\n",
       " 'total_navigations_fav2',\n",
       " 'km_per_drive',\n",
       " 'drives',\n",
       " 'driving_days',\n",
       " 'km_per_driving_day',\n",
       " 'percent_sessions_to_favorites',\n",
       " 'driven_km_drives',\n",
       " 'duration_minutes_drives',\n",
       " 'total_sessions_per_day',\n",
       " 'total_sessions']"
      ]
     },
     "execution_count": 524,
     "metadata": {},
     "output_type": "execute_result"
    }
   ],
   "source": [
    "X_features = set(df.columns) -set(['label', 'label_encoded', 'device'])\n",
    "X_features = list(X_features)\n",
    "X_features"
   ]
  },
  {
   "cell_type": "code",
   "execution_count": 525,
   "metadata": {},
   "outputs": [],
   "source": [
    "def splitset_train_validation_test(Xin, yin,\n",
    "                                   validation_size: float = 0.20,\n",
    "                                   test_size: float = 0.20,\n",
    "                                   random_state: float = 44):\n",
    "    '''Splitting with stratification  on y\n",
    "    The X and y for the model are returned as dictionaries\n",
    "    with 'train', 'valid' and 'test' as keys\n",
    "    Input set divided into train0 and test sets according to test_size\n",
    "    train0 set divided into train and validation according to validation_size\n",
    "    Set sizes are relative to original set size'''\n",
    "    \n",
    "    X=dict()\n",
    "    y=dict()\n",
    "    X_train0, X['test'], y_train0, y['test'] = train_test_split(Xin, yin, \n",
    "                                                                      test_size=test_size,\n",
    "                                                                      stratify=yin,\n",
    "                                                                      random_state=random_state)\n",
    "    # Calculate factor for validation set from user input:\n",
    "    b = validation_size / (1 - test_size)\n",
    "    X['train'], X['valid'], y['train'], y['valid'] = train_test_split(X_train0, y_train0, \n",
    "                                                                      test_size = b,\n",
    "                                                                      stratify = y_train0,\n",
    "                                                                      random_state=random_state) \n",
    "    # check spliting ratios:\n",
    "    for set in ['train', 'valid', 'test']:\n",
    "        set_ratio = len(y[set]) / len(yin)\n",
    "        print('{} set size: {} of original data set'.format(set, set_ratio))\n",
    "        print('Value distribution in y vector: \\n {}\\n'.format(y[set].value_counts(normalize=True)))\n",
    "    return X,y\n",
    "    print('exiting split')"
   ]
  },
  {
   "cell_type": "code",
   "execution_count": 526,
   "metadata": {},
   "outputs": [
    {
     "name": "stdout",
     "output_type": "stream",
     "text": [
      "train set size: 0.6 of original data set\n",
      "Value distribution in y vector: \n",
      " label_encoded\n",
      "0    0.82771\n",
      "1    0.17229\n",
      "Name: proportion, dtype: float64\n",
      "\n",
      "valid set size: 0.2 of original data set\n",
      "Value distribution in y vector: \n",
      " label_encoded\n",
      "0    0.827873\n",
      "1    0.172127\n",
      "Name: proportion, dtype: float64\n",
      "\n",
      "test set size: 0.2 of original data set\n",
      "Value distribution in y vector: \n",
      " label_encoded\n",
      "0    0.827873\n",
      "1    0.172127\n",
      "Name: proportion, dtype: float64\n",
      "\n"
     ]
    }
   ],
   "source": [
    "X, y = splitset_train_validation_test(df[X_features], df['label_encoded'], test_size=0.2, validation_size=0.2, )"
   ]
  },
  {
   "cell_type": "markdown",
   "metadata": {
    "id": "4vSaa0-xcu4Q",
    "jp-MarkdownHeadingCollapsed": true
   },
   "source": [
    "# **Task 7. Modeling**"
   ]
  },
  {
   "cell_type": "markdown",
   "metadata": {
    "id": "vynZs5het1b_",
    "jp-MarkdownHeadingCollapsed": true
   },
   "source": [
    "## **Random forest**"
   ]
  },
  {
   "cell_type": "code",
   "execution_count": 527,
   "metadata": {},
   "outputs": [
    {
     "name": "stdout",
     "output_type": "stream",
     "text": [
      "6135\n",
      "18\n"
     ]
    }
   ],
   "source": [
    "print(len(y['train']))\n",
    "print(len(X['train'].columns))"
   ]
  },
  {
   "cell_type": "code",
   "execution_count": 528,
   "metadata": {
    "id": "Vj5rJWOv5O3d"
   },
   "outputs": [],
   "source": [
    "# Define hyperparameter values for tuning and instantiate model:\n",
    "\n",
    "# The random forest takes parameters for decision trees and for random forests:\n",
    "# https://scikit-learn.org/stable/modules/generated/sklearn.tree.DecisionTreeClassifier.html\n",
    "# https://scikit-learn.org/stable/modules/generated/sklearn.ensemble.RandomForestClassifier.html\n",
    "\n",
    "rf_params = {#Tree parameters:\n",
    "             'max_depth': [36, 72 ], # None puts no limit in depth. We have 18 features, so limit at nfeats*4\n",
    "             'min_samples_leaf': [1,2,4], # ~6000 items in train set\n",
    "             #'min_samples_split': [2,3,4],\n",
    "    \n",
    "             # Random forest parameters:\n",
    "             'bootstrap': [True],\n",
    "             'max_samples': [0.8, 0.9], # fraction of original data set to be used for bootstraping\n",
    "             'n_estimators': [50, 100], # number of decision trees\n",
    "             'max_features': [0.33, 0.66, 0.9], # number of fetures used in decision trees           \n",
    "             }  \n",
    "\n",
    "scoring = ['accuracy', 'precision', 'recall', 'f1']\n",
    "\n",
    "random_forest = dict()\n",
    "model_instance = RandomForestClassifier(random_state=54)\n",
    "random_forest['model'] = GridSearchCV(model_instance, rf_params, scoring = scoring, cv=5, refit=\"f1\")\n",
    "random_forest['model_name'] = 'RandomForestClassifier'"
   ]
  },
  {
   "cell_type": "markdown",
   "metadata": {
    "id": "Wv_WvRA1RqTl"
   },
   "source": [
    "Now fit the model to the training data."
   ]
  },
  {
   "cell_type": "code",
   "execution_count": 529,
   "metadata": {
    "id": "OXuBiTGi5ZHn"
   },
   "outputs": [
    {
     "name": "stdout",
     "output_type": "stream",
     "text": [
      "CPU times: user 14min 33s, sys: 104 ms, total: 14min 33s\n",
      "Wall time: 14min 33s\n"
     ]
    },
    {
     "data": {
      "text/html": [
       "<style>#sk-container-id-2 {color: black;}#sk-container-id-2 pre{padding: 0;}#sk-container-id-2 div.sk-toggleable {background-color: white;}#sk-container-id-2 label.sk-toggleable__label {cursor: pointer;display: block;width: 100%;margin-bottom: 0;padding: 0.3em;box-sizing: border-box;text-align: center;}#sk-container-id-2 label.sk-toggleable__label-arrow:before {content: \"▸\";float: left;margin-right: 0.25em;color: #696969;}#sk-container-id-2 label.sk-toggleable__label-arrow:hover:before {color: black;}#sk-container-id-2 div.sk-estimator:hover label.sk-toggleable__label-arrow:before {color: black;}#sk-container-id-2 div.sk-toggleable__content {max-height: 0;max-width: 0;overflow: hidden;text-align: left;background-color: #f0f8ff;}#sk-container-id-2 div.sk-toggleable__content pre {margin: 0.2em;color: black;border-radius: 0.25em;background-color: #f0f8ff;}#sk-container-id-2 input.sk-toggleable__control:checked~div.sk-toggleable__content {max-height: 200px;max-width: 100%;overflow: auto;}#sk-container-id-2 input.sk-toggleable__control:checked~label.sk-toggleable__label-arrow:before {content: \"▾\";}#sk-container-id-2 div.sk-estimator input.sk-toggleable__control:checked~label.sk-toggleable__label {background-color: #d4ebff;}#sk-container-id-2 div.sk-label input.sk-toggleable__control:checked~label.sk-toggleable__label {background-color: #d4ebff;}#sk-container-id-2 input.sk-hidden--visually {border: 0;clip: rect(1px 1px 1px 1px);clip: rect(1px, 1px, 1px, 1px);height: 1px;margin: -1px;overflow: hidden;padding: 0;position: absolute;width: 1px;}#sk-container-id-2 div.sk-estimator {font-family: monospace;background-color: #f0f8ff;border: 1px dotted black;border-radius: 0.25em;box-sizing: border-box;margin-bottom: 0.5em;}#sk-container-id-2 div.sk-estimator:hover {background-color: #d4ebff;}#sk-container-id-2 div.sk-parallel-item::after {content: \"\";width: 100%;border-bottom: 1px solid gray;flex-grow: 1;}#sk-container-id-2 div.sk-label:hover label.sk-toggleable__label {background-color: #d4ebff;}#sk-container-id-2 div.sk-serial::before {content: \"\";position: absolute;border-left: 1px solid gray;box-sizing: border-box;top: 0;bottom: 0;left: 50%;z-index: 0;}#sk-container-id-2 div.sk-serial {display: flex;flex-direction: column;align-items: center;background-color: white;padding-right: 0.2em;padding-left: 0.2em;position: relative;}#sk-container-id-2 div.sk-item {position: relative;z-index: 1;}#sk-container-id-2 div.sk-parallel {display: flex;align-items: stretch;justify-content: center;background-color: white;position: relative;}#sk-container-id-2 div.sk-item::before, #sk-container-id-2 div.sk-parallel-item::before {content: \"\";position: absolute;border-left: 1px solid gray;box-sizing: border-box;top: 0;bottom: 0;left: 50%;z-index: -1;}#sk-container-id-2 div.sk-parallel-item {display: flex;flex-direction: column;z-index: 1;position: relative;background-color: white;}#sk-container-id-2 div.sk-parallel-item:first-child::after {align-self: flex-end;width: 50%;}#sk-container-id-2 div.sk-parallel-item:last-child::after {align-self: flex-start;width: 50%;}#sk-container-id-2 div.sk-parallel-item:only-child::after {width: 0;}#sk-container-id-2 div.sk-dashed-wrapped {border: 1px dashed gray;margin: 0 0.4em 0.5em 0.4em;box-sizing: border-box;padding-bottom: 0.4em;background-color: white;}#sk-container-id-2 div.sk-label label {font-family: monospace;font-weight: bold;display: inline-block;line-height: 1.2em;}#sk-container-id-2 div.sk-label-container {text-align: center;}#sk-container-id-2 div.sk-container {/* jupyter's `normalize.less` sets `[hidden] { display: none; }` but bootstrap.min.css set `[hidden] { display: none !important; }` so we also need the `!important` here to be able to override the default hidden behavior on the sphinx rendered scikit-learn.org. See: https://github.com/scikit-learn/scikit-learn/issues/21755 */display: inline-block !important;position: relative;}#sk-container-id-2 div.sk-text-repr-fallback {display: none;}</style><div id=\"sk-container-id-2\" class=\"sk-top-container\"><div class=\"sk-text-repr-fallback\"><pre>GridSearchCV(cv=5, estimator=RandomForestClassifier(random_state=54),\n",
       "             param_grid={&#x27;bootstrap&#x27;: [True], &#x27;max_depth&#x27;: [36, 72],\n",
       "                         &#x27;max_features&#x27;: [0.33, 0.66, 0.9],\n",
       "                         &#x27;max_samples&#x27;: [0.8, 0.9],\n",
       "                         &#x27;min_samples_leaf&#x27;: [1, 2, 4],\n",
       "                         &#x27;n_estimators&#x27;: [50, 100]},\n",
       "             refit=&#x27;f1&#x27;, scoring=[&#x27;accuracy&#x27;, &#x27;precision&#x27;, &#x27;recall&#x27;, &#x27;f1&#x27;])</pre><b>In a Jupyter environment, please rerun this cell to show the HTML representation or trust the notebook. <br />On GitHub, the HTML representation is unable to render, please try loading this page with nbviewer.org.</b></div><div class=\"sk-container\" hidden><div class=\"sk-item sk-dashed-wrapped\"><div class=\"sk-label-container\"><div class=\"sk-label sk-toggleable\"><input class=\"sk-toggleable__control sk-hidden--visually\" id=\"sk-estimator-id-4\" type=\"checkbox\" ><label for=\"sk-estimator-id-4\" class=\"sk-toggleable__label sk-toggleable__label-arrow\">GridSearchCV</label><div class=\"sk-toggleable__content\"><pre>GridSearchCV(cv=5, estimator=RandomForestClassifier(random_state=54),\n",
       "             param_grid={&#x27;bootstrap&#x27;: [True], &#x27;max_depth&#x27;: [36, 72],\n",
       "                         &#x27;max_features&#x27;: [0.33, 0.66, 0.9],\n",
       "                         &#x27;max_samples&#x27;: [0.8, 0.9],\n",
       "                         &#x27;min_samples_leaf&#x27;: [1, 2, 4],\n",
       "                         &#x27;n_estimators&#x27;: [50, 100]},\n",
       "             refit=&#x27;f1&#x27;, scoring=[&#x27;accuracy&#x27;, &#x27;precision&#x27;, &#x27;recall&#x27;, &#x27;f1&#x27;])</pre></div></div></div><div class=\"sk-parallel\"><div class=\"sk-parallel-item\"><div class=\"sk-item\"><div class=\"sk-label-container\"><div class=\"sk-label sk-toggleable\"><input class=\"sk-toggleable__control sk-hidden--visually\" id=\"sk-estimator-id-5\" type=\"checkbox\" ><label for=\"sk-estimator-id-5\" class=\"sk-toggleable__label sk-toggleable__label-arrow\">estimator: RandomForestClassifier</label><div class=\"sk-toggleable__content\"><pre>RandomForestClassifier(random_state=54)</pre></div></div></div><div class=\"sk-serial\"><div class=\"sk-item\"><div class=\"sk-estimator sk-toggleable\"><input class=\"sk-toggleable__control sk-hidden--visually\" id=\"sk-estimator-id-6\" type=\"checkbox\" ><label for=\"sk-estimator-id-6\" class=\"sk-toggleable__label sk-toggleable__label-arrow\">RandomForestClassifier</label><div class=\"sk-toggleable__content\"><pre>RandomForestClassifier(random_state=54)</pre></div></div></div></div></div></div></div></div></div></div>"
      ],
      "text/plain": [
       "GridSearchCV(cv=5, estimator=RandomForestClassifier(random_state=54),\n",
       "             param_grid={'bootstrap': [True], 'max_depth': [36, 72],\n",
       "                         'max_features': [0.33, 0.66, 0.9],\n",
       "                         'max_samples': [0.8, 0.9],\n",
       "                         'min_samples_leaf': [1, 2, 4],\n",
       "                         'n_estimators': [50, 100]},\n",
       "             refit='f1', scoring=['accuracy', 'precision', 'recall', 'f1'])"
      ]
     },
     "execution_count": 529,
     "metadata": {},
     "output_type": "execute_result"
    }
   ],
   "source": [
    "%%time\n",
    "random_forest['model'].fit(X['train'], y['train']) "
   ]
  },
  {
   "cell_type": "markdown",
   "metadata": {
    "id": "5wHi_YJduQOH"
   },
   "source": [
    "Examine the best average score across all the validation folds."
   ]
  },
  {
   "cell_type": "code",
   "execution_count": 534,
   "metadata": {
    "id": "YtAgrH0zy4CE"
   },
   "outputs": [],
   "source": [
    "def check_fit_results(model_dict):\n",
    "    '''model_dict name of the dictionary where the model is.\n",
    "    Thes model should be under the key ['model'] of model_dict_name'''\n",
    "\n",
    "    print('Best score: {}\\n'.format(model_dict['model'].best_score_))\n",
    "    print('Best estimator: {}\\n'.format(model_dict['model'].best_estimator_))\n",
    "    print('Best parameters: {}\\n'.format(model_dict['model'].best_params_))\n",
    "\n",
    "    # store results separately:\n",
    "    model_dict['cv_results'] = pd.DataFrame(model_dict['model'].cv_results_)\n",
    "    \n",
    "    # print selected parameters only for best 5 cv-models:\n",
    "    print('5-top CV-models:\\n {}\\n'.format(model_dict['cv_results'][['params',\n",
    "                              'mean_test_f1', 'std_test_f1',\n",
    "                              'mean_test_accuracy', 'std_test_accuracy',\n",
    "                              'mean_test_precision', 'std_test_precision',\n",
    "                              'mean_test_recall', 'std_test_recall']].sort_values(by='mean_test_f1', ascending=False).head(5)))\n",
    "    \n",
    "    # print all parameters for best 2 cv-models:\n",
    "    print('2-top CV-models:\\n {}\\n'.format(model_dict['cv_results'].sort_values(by='mean_test_f1', ascending=False).head(2)))\n",
    "\n",
    "    "
   ]
  },
  {
   "cell_type": "markdown",
   "metadata": {
    "id": "heGb51fHh3E5"
   },
   "source": [
    "Examine the best combination of hyperparameters."
   ]
  },
  {
   "cell_type": "code",
   "execution_count": 535,
   "metadata": {
    "id": "kazNtYG4fQOI"
   },
   "outputs": [
    {
     "name": "stdout",
     "output_type": "stream",
     "text": [
      "Best score: 0.20164593565342775\n",
      "\n",
      "Best estimator: RandomForestClassifier(max_depth=36, max_features=0.9, max_samples=0.9,\n",
      "                       n_estimators=50, random_state=54)\n",
      "\n",
      "Best parameters: {'bootstrap': True, 'max_depth': 36, 'max_features': 0.9, 'max_samples': 0.9, 'min_samples_leaf': 1, 'n_estimators': 50}\n",
      "\n",
      "5-top CV-models:\n",
      "                                                params  mean_test_f1  \\\n",
      "66  {'bootstrap': True, 'max_depth': 72, 'max_feat...      0.201646   \n",
      "30  {'bootstrap': True, 'max_depth': 36, 'max_feat...      0.201646   \n",
      "26  {'bootstrap': True, 'max_depth': 36, 'max_feat...      0.197783   \n",
      "62  {'bootstrap': True, 'max_depth': 72, 'max_feat...      0.197783   \n",
      "27  {'bootstrap': True, 'max_depth': 36, 'max_feat...      0.195413   \n",
      "\n",
      "    std_test_f1  mean_test_accuracy  std_test_accuracy  mean_test_precision  \\\n",
      "66     0.012009            0.824450           0.005421             0.471218   \n",
      "30     0.012009            0.824450           0.005421             0.471218   \n",
      "26     0.031895            0.822168           0.005035             0.442914   \n",
      "62     0.031895            0.822168           0.005035             0.442914   \n",
      "27     0.028002            0.824287           0.007079             0.466971   \n",
      "\n",
      "    std_test_precision  mean_test_recall  std_test_recall  \n",
      "66            0.051357          0.128682         0.008369  \n",
      "30            0.051357          0.128682         0.008369  \n",
      "26            0.049328          0.127716         0.022897  \n",
      "62            0.049328          0.127716         0.022897  \n",
      "27            0.072211          0.123938         0.018287  \n",
      "\n",
      "2-top CV-models:\n",
      "     mean_fit_time  std_fit_time  mean_score_time  std_score_time  \\\n",
      "66        2.59051      0.016441         0.018826        0.000269   \n",
      "30        2.66258      0.040823         0.018843        0.000106   \n",
      "\n",
      "   param_bootstrap param_max_depth param_max_features param_max_samples  \\\n",
      "66            True              72                0.9               0.9   \n",
      "30            True              36                0.9               0.9   \n",
      "\n",
      "   param_min_samples_leaf param_n_estimators  ... std_test_recall  \\\n",
      "66                      1                 50  ...        0.008369   \n",
      "30                      1                 50  ...        0.008369   \n",
      "\n",
      "    rank_test_recall  split0_test_f1  split1_test_f1  split2_test_f1  \\\n",
      "66                 1        0.206107        0.180451         0.19788   \n",
      "30                 1        0.206107        0.180451         0.19788   \n",
      "\n",
      "    split3_test_f1  split4_test_f1  mean_test_f1  std_test_f1  rank_test_f1  \n",
      "66        0.208178        0.215613      0.201646     0.012009             1  \n",
      "30        0.208178        0.215613      0.201646     0.012009             1  \n",
      "\n",
      "[2 rows x 43 columns]\n",
      "\n"
     ]
    }
   ],
   "source": [
    "check_fit_results(random_forest)"
   ]
  },
  {
   "cell_type": "code",
   "execution_count": 649,
   "metadata": {
    "id": "u-UodWEOedxz"
   },
   "outputs": [],
   "source": [
    "def table_model_scores(model_name:str, model_object, model_metrics, order_metric:str):\n",
    "    '''\n",
    "    Generate table of test scores for GridSearchCV model\n",
    "    Arguments:\n",
    "        model_name (string): what you want the model to be called in the output table\n",
    "        model_object: a fit GridSearchCV object\n",
    "        order_metric (string): precision, recall, f1, or accuracy. For presenting order\n",
    "\n",
    "    Returns a pandas df with the F1, recall, precision, and accuracy scores\n",
    "    for the model with the best mean 'metric' score across all validation folds.\n",
    "    '''\n",
    "\n",
    "    # Check metrics to extract are included in expected scores:\n",
    "    expected_metrics = set(['accuracy', 'precision', 'recall', 'f1'])\n",
    "    model_metrics = set(scoring)\n",
    "    if expected_metrics != model_metrics:\n",
    "        print('Error: Metrics unmatch:\\n expected {}, got {}\\n'.format(expected_metrics, model_metrics))\n",
    "        return 1\n",
    "    else:\n",
    "         print('Metrics match, metrics to extract are:\\n expected {}\\n'.format(expected_metrics, model_metrics))\n",
    "        \n",
    "\n",
    "    # Create dictionary that maps input metric to actual metric name in GridSearchCV\n",
    "    metric_dict = {'precision': 'mean_test_precision',\n",
    "                   'recall': 'mean_test_recall',\n",
    "                   'f1': 'mean_test_f1',\n",
    "                   'accuracy': 'mean_test_accuracy',\n",
    "                   }\n",
    "    # Get all the results from the CV and put them in a df\n",
    "    cv_results = pd.DataFrame(model_object.cv_results_)\n",
    "\n",
    "    # Isolate the row of the df with the max(metric) score\n",
    "    best_estimator_results = cv_results.iloc[cv_results[metric_dict[order_metric]].idxmax(), :]\n",
    "\n",
    "    # Extract accuracy, precision, recall, and f1 score from that row\n",
    "    f1 = best_estimator_results.mean_test_f1\n",
    "    recall = best_estimator_results.mean_test_recall\n",
    "    precision = best_estimator_results.mean_test_precision\n",
    "    accuracy = best_estimator_results.mean_test_accuracy\n",
    "\n",
    "    # Create table of results\n",
    "    df_table = pd.DataFrame(\n",
    "                         {'model': [model_name],\n",
    "                          'f1': [f1],\n",
    "                          'accuracy': [accuracy],\n",
    "                          'precision': [precision],\n",
    "                          'recall': [recall],                          \n",
    "                          },\n",
    "                         )\n",
    "\n",
    "    return df_table\n"
   ]
  },
  {
   "cell_type": "code",
   "execution_count": 642,
   "metadata": {
    "id": "qAYb2QigiT_h",
    "scrolled": true
   },
   "outputs": [
    {
     "name": "stdout",
     "output_type": "stream",
     "text": [
      "Metrics match, metrics to extract are:\n",
      " expected {'precision', 'f1', 'recall', 'accuracy'}\n",
      "\n"
     ]
    },
    {
     "data": {
      "text/html": [
       "<div>\n",
       "<style scoped>\n",
       "    .dataframe tbody tr th:only-of-type {\n",
       "        vertical-align: middle;\n",
       "    }\n",
       "\n",
       "    .dataframe tbody tr th {\n",
       "        vertical-align: top;\n",
       "    }\n",
       "\n",
       "    .dataframe thead th {\n",
       "        text-align: right;\n",
       "    }\n",
       "</style>\n",
       "<table border=\"1\" class=\"dataframe\">\n",
       "  <thead>\n",
       "    <tr style=\"text-align: right;\">\n",
       "      <th></th>\n",
       "      <th>model</th>\n",
       "      <th>f1</th>\n",
       "      <th>accuracy</th>\n",
       "      <th>precision</th>\n",
       "      <th>recall</th>\n",
       "    </tr>\n",
       "  </thead>\n",
       "  <tbody>\n",
       "    <tr>\n",
       "      <th>0</th>\n",
       "      <td>RandomForestClassifier_CV</td>\n",
       "      <td>0.201646</td>\n",
       "      <td>0.82445</td>\n",
       "      <td>0.471218</td>\n",
       "      <td>0.128682</td>\n",
       "    </tr>\n",
       "  </tbody>\n",
       "</table>\n",
       "</div>"
      ],
      "text/plain": [
       "                       model        f1  accuracy  precision    recall\n",
       "0  RandomForestClassifier_CV  0.201646   0.82445   0.471218  0.128682"
      ]
     },
     "execution_count": 642,
     "metadata": {},
     "output_type": "execute_result"
    }
   ],
   "source": [
    "models_scores = table_model_scores(random_forest['model_name']+'_CV', random_forest['model'], scoring, 'f1')\n",
    "models_scores"
   ]
  },
  {
   "cell_type": "markdown",
   "metadata": {},
   "source": [
    "### Predict on validation and test sets:"
   ]
  },
  {
   "cell_type": "code",
   "execution_count": 637,
   "metadata": {},
   "outputs": [],
   "source": [
    "random_forest['y_predict_valid'] = random_forest['model'].best_estimator_.predict(X['valid'])\n",
    "random_forest['y_predict_test'] = random_forest['model'].best_estimator_.predict(X['test'])"
   ]
  },
  {
   "cell_type": "code",
   "execution_count": 638,
   "metadata": {},
   "outputs": [],
   "source": [
    "def prediction_scores(model_name:str, y_prediction, y_reference, model_metrics):\n",
    "    '''\n",
    "    Generate a table of test scores for predictions\n",
    "\n",
    "    In:\n",
    "        model_name (string): Your choice: how the model will be named in the output table\n",
    "        y_prediction: numpy array of predictions\n",
    "        y_reference: numpy array of expected values\n",
    "        model_metrics: same metrics used when modeling\n",
    "\n",
    "    Out:\n",
    "        table: a pandas df of precision, recall, f1, and accuracy scores for your model\n",
    "    '''\n",
    "\n",
    "    # Check metrics to extract are included in expected scores:\n",
    "    expected_metrics = set(['accuracy', 'precision', 'recall', 'f1'])\n",
    "    model_metrics = set(model_metrics)\n",
    "    if expected_metrics != model_metrics:\n",
    "        print('Error: Metrics unmatch:\\n expected {}, got {}\\n'.format(expected_metrics, model_metrics))\n",
    "        return 1\n",
    "    else:\n",
    "         print('Metrics match, metrics to extract are:\\n expected {}\\n'.format(expected_metrics, model_metrics))\n",
    "         # order metrics for output same as in table_model_scores():\n",
    "         model_metrics = ('f1', 'accuracy', 'precision', 'recall')\n",
    "    \n",
    "\n",
    "    pred_scores_table = list()\n",
    "    for score in model_metrics:\n",
    "        score = score+'_score'\n",
    "        score_value = globals()[score](y_reference, y_prediction)\n",
    "        # line above a bit tricky, see:\n",
    "        # https://stackoverflow.com/questions/4018953/whats-the-way-to-call-a-function-dynamically-in-python\n",
    "        #print(score_value)\n",
    "        pred_scores_table.append(score_value)\n",
    "        \n",
    "    #print(pred_scores_table)\n",
    "    #return\n",
    "    pred_scores_table = [model_name] + pred_scores_table\n",
    "    #print(pred_scores_table)\n",
    "    columns = ['model'] + list(model_metrics)\n",
    "    #print(columns)\n",
    "    #return\n",
    "    pred_scores_table = dict(zip(columns, pred_scores_table))\n",
    "    pred_scores_table = pd.DataFrame(pred_scores_table, index=[0])\n",
    "    return pred_scores_table"
   ]
  },
  {
   "cell_type": "code",
   "execution_count": 639,
   "metadata": {},
   "outputs": [
    {
     "name": "stdout",
     "output_type": "stream",
     "text": [
      "Metrics match, metrics to extract are:\n",
      " expected {'precision', 'f1', 'recall', 'accuracy'}\n",
      "\n"
     ]
    }
   ],
   "source": [
    "random_forest['y_predict_valid_scores'] = prediction_scores(random_forest['model_name']+'_pred_valid',\n",
    "                                                            random_forest['y_predict_valid'],\n",
    "                                                            y['valid'],\n",
    "                                                            scoring)"
   ]
  },
  {
   "cell_type": "code",
   "execution_count": 640,
   "metadata": {},
   "outputs": [
    {
     "name": "stdout",
     "output_type": "stream",
     "text": [
      "Metrics match, metrics to extract are:\n",
      " expected {'precision', 'f1', 'recall', 'accuracy'}\n",
      "\n"
     ]
    }
   ],
   "source": [
    "random_forest['y_predict_test_scores'] = prediction_scores(random_forest['model_name']+'_pred_test',\n",
    "                                                            random_forest['y_predict_test'],\n",
    "                                                            y['test'],\n",
    "                                                            scoring)"
   ]
  },
  {
   "cell_type": "code",
   "execution_count": 633,
   "metadata": {},
   "outputs": [
    {
     "data": {
      "text/html": [
       "<div>\n",
       "<style scoped>\n",
       "    .dataframe tbody tr th:only-of-type {\n",
       "        vertical-align: middle;\n",
       "    }\n",
       "\n",
       "    .dataframe tbody tr th {\n",
       "        vertical-align: top;\n",
       "    }\n",
       "\n",
       "    .dataframe thead th {\n",
       "        text-align: right;\n",
       "    }\n",
       "</style>\n",
       "<table border=\"1\" class=\"dataframe\">\n",
       "  <thead>\n",
       "    <tr style=\"text-align: right;\">\n",
       "      <th></th>\n",
       "      <th>model</th>\n",
       "      <th>f1</th>\n",
       "      <th>accuracy</th>\n",
       "      <th>precision</th>\n",
       "      <th>recall</th>\n",
       "    </tr>\n",
       "  </thead>\n",
       "  <tbody>\n",
       "    <tr>\n",
       "      <th>0</th>\n",
       "      <td>RandomForestClassifier_pred_valid</td>\n",
       "      <td>0.223176</td>\n",
       "      <td>0.822983</td>\n",
       "      <td>0.45614</td>\n",
       "      <td>0.147727</td>\n",
       "    </tr>\n",
       "  </tbody>\n",
       "</table>\n",
       "</div>"
      ],
      "text/plain": [
       "                               model        f1  accuracy  precision    recall\n",
       "0  RandomForestClassifier_pred_valid  0.223176  0.822983    0.45614  0.147727"
      ]
     },
     "execution_count": 633,
     "metadata": {},
     "output_type": "execute_result"
    }
   ],
   "source": [
    "random_forest['y_predict_valid_scores']"
   ]
  },
  {
   "cell_type": "code",
   "execution_count": 643,
   "metadata": {},
   "outputs": [
    {
     "data": {
      "text/html": [
       "<div>\n",
       "<style scoped>\n",
       "    .dataframe tbody tr th:only-of-type {\n",
       "        vertical-align: middle;\n",
       "    }\n",
       "\n",
       "    .dataframe tbody tr th {\n",
       "        vertical-align: top;\n",
       "    }\n",
       "\n",
       "    .dataframe thead th {\n",
       "        text-align: right;\n",
       "    }\n",
       "</style>\n",
       "<table border=\"1\" class=\"dataframe\">\n",
       "  <thead>\n",
       "    <tr style=\"text-align: right;\">\n",
       "      <th></th>\n",
       "      <th>model</th>\n",
       "      <th>f1</th>\n",
       "      <th>accuracy</th>\n",
       "      <th>precision</th>\n",
       "      <th>recall</th>\n",
       "    </tr>\n",
       "  </thead>\n",
       "  <tbody>\n",
       "    <tr>\n",
       "      <th>0</th>\n",
       "      <td>RandomForestClassifier_CV</td>\n",
       "      <td>0.201646</td>\n",
       "      <td>0.824450</td>\n",
       "      <td>0.471218</td>\n",
       "      <td>0.128682</td>\n",
       "    </tr>\n",
       "    <tr>\n",
       "      <th>0</th>\n",
       "      <td>RandomForestClassifier_pred_valid</td>\n",
       "      <td>0.223176</td>\n",
       "      <td>0.822983</td>\n",
       "      <td>0.456140</td>\n",
       "      <td>0.147727</td>\n",
       "    </tr>\n",
       "    <tr>\n",
       "      <th>0</th>\n",
       "      <td>RandomForestClassifier_pred_test</td>\n",
       "      <td>0.195991</td>\n",
       "      <td>0.823472</td>\n",
       "      <td>0.453608</td>\n",
       "      <td>0.125000</td>\n",
       "    </tr>\n",
       "  </tbody>\n",
       "</table>\n",
       "</div>"
      ],
      "text/plain": [
       "                               model        f1  accuracy  precision    recall\n",
       "0          RandomForestClassifier_CV  0.201646  0.824450   0.471218  0.128682\n",
       "0  RandomForestClassifier_pred_valid  0.223176  0.822983   0.456140  0.147727\n",
       "0   RandomForestClassifier_pred_test  0.195991  0.823472   0.453608  0.125000"
      ]
     },
     "execution_count": 643,
     "metadata": {},
     "output_type": "execute_result"
    }
   ],
   "source": [
    "# Append scores to table of all model scores:\n",
    "models_scores = pd.concat([models_scores, random_forest['y_predict_valid_scores']], axis=0)\n",
    "models_scores = pd.concat([models_scores, random_forest['y_predict_test_scores']], axis=0)\n",
    "models_scores"
   ]
  },
  {
   "cell_type": "markdown",
   "metadata": {
    "id": "SB-yhW9uu7dO"
   },
   "source": [
    "Asside from the accuracy, the scores aren't that good. However, recall that when you built the logistic regression model in the last course the recall was \\~0.09, which means that this model has 33% better recall and about the same accuracy, and it was trained on less data.\n",
    "\n",
    "If you want, feel free to try retuning your hyperparameters to try to get a better score. You might be able to marginally improve the model."
   ]
  },
  {
   "cell_type": "markdown",
   "metadata": {
    "id": "DOlktJ6l4Tgt",
    "jp-MarkdownHeadingCollapsed": true
   },
   "source": [
    "## **XGBoost**"
   ]
  },
  {
   "cell_type": "code",
   "execution_count": 644,
   "metadata": {
    "id": "0ciO48nhiTqO"
   },
   "outputs": [],
   "source": [
    "# Define xgb to be your XGBClassifier.\n",
    "\n",
    "model_instance = XGBClassifier(objective='binary:logistic', random_state=54)\n",
    "\n",
    "# number of features = 18\n",
    "# number of observations train set = ~6e3\n",
    "gboost_params = {# tree parameters:\n",
    "             'max_depth': [36, 72], \n",
    "             'min_child_weight': [1,2,4],\n",
    "             # ensemble parameters:\n",
    "             'n_estimators': [50, 100],\n",
    "             'learning_rate': [0.1, 0.3, 0.5],\n",
    "             'subsample': [0.8, 0.9], # FRACTION of original data set to be used for bootstraping (sampling)\n",
    "             'colsample_bytree': [0.33, 0.66, 0.9]  # FRACTION of features used in decision trees \n",
    "             }    \n",
    "\n",
    "#scoring = ['accuracy', 'precision', 'recall', 'f1']\n",
    "\n",
    "grad_boost = dict()\n",
    "grad_boost['model'] = GridSearchCV(model_instance, gboost_params, scoring=scoring, cv=5, refit='f1')\n",
    "grad_boost['model_name'] = 'XGBClassifier'"
   ]
  },
  {
   "cell_type": "markdown",
   "metadata": {
    "id": "Y78-hQF9680x"
   },
   "source": [
    "Now fit the model to the `X_train` and `y_train` data.\n",
    "\n"
   ]
  },
  {
   "cell_type": "code",
   "execution_count": 645,
   "metadata": {
    "id": "dYCWs_HX6804"
   },
   "outputs": [
    {
     "name": "stdout",
     "output_type": "stream",
     "text": [
      "CPU times: user 16min 37s, sys: 6.68 s, total: 16min 44s\n",
      "Wall time: 4min 31s\n"
     ]
    }
   ],
   "source": [
    "%%time\n",
    "grad_boost['model'].fit(X['train'], y['train']) \n",
    "grad_boost['y_predict_valid'] = grad_boost['model'].best_estimator_.predict(X['valid'])\n",
    "grad_boost['y_predict_test'] = grad_boost['model'].best_estimator_.predict(X['test'])"
   ]
  },
  {
   "cell_type": "markdown",
   "metadata": {
    "id": "ruQISDB76805"
   },
   "source": [
    "Get the best score from this model."
   ]
  },
  {
   "cell_type": "code",
   "execution_count": 646,
   "metadata": {},
   "outputs": [
    {
     "name": "stdout",
     "output_type": "stream",
     "text": [
      "Best score: 0.2705151331449148\n",
      "\n",
      "Best estimator: XGBClassifier(base_score=None, booster=None, callbacks=None,\n",
      "              colsample_bylevel=None, colsample_bynode=None,\n",
      "              colsample_bytree=0.66, device=None, early_stopping_rounds=None,\n",
      "              enable_categorical=False, eval_metric=None, feature_types=None,\n",
      "              gamma=None, grow_policy=None, importance_type=None,\n",
      "              interaction_constraints=None, learning_rate=0.5, max_bin=None,\n",
      "              max_cat_threshold=None, max_cat_to_onehot=None,\n",
      "              max_delta_step=None, max_depth=36, max_leaves=None,\n",
      "              min_child_weight=4, missing=nan, monotone_constraints=None,\n",
      "              multi_strategy=None, n_estimators=50, n_jobs=None,\n",
      "              num_parallel_tree=None, random_state=54, ...)\n",
      "\n",
      "Best parameters: {'colsample_bytree': 0.66, 'learning_rate': 0.5, 'max_depth': 36, 'min_child_weight': 4, 'n_estimators': 50, 'subsample': 0.8}\n",
      "\n",
      "5-top CV-models:\n",
      "                                                 params  mean_test_f1  \\\n",
      "128  {'colsample_bytree': 0.66, 'learning_rate': 0....      0.270515   \n",
      "140  {'colsample_bytree': 0.66, 'learning_rate': 0....      0.270515   \n",
      "135  {'colsample_bytree': 0.66, 'learning_rate': 0....      0.269472   \n",
      "123  {'colsample_bytree': 0.66, 'learning_rate': 0....      0.269472   \n",
      "142  {'colsample_bytree': 0.66, 'learning_rate': 0....      0.264330   \n",
      "\n",
      "     std_test_f1  mean_test_accuracy  std_test_accuracy  mean_test_precision  \\\n",
      "128     0.026999            0.804075           0.007945             0.378215   \n",
      "140     0.026999            0.804075           0.007945             0.378215   \n",
      "135     0.013907            0.819886           0.003534             0.448340   \n",
      "123     0.013907            0.819886           0.003534             0.448340   \n",
      "142     0.020689            0.802771           0.009982             0.372999   \n",
      "\n",
      "     std_test_precision  mean_test_recall  std_test_recall  \n",
      "128            0.040773          0.210968         0.022266  \n",
      "140            0.040773          0.210968         0.022266  \n",
      "135            0.024555          0.192989         0.013035  \n",
      "123            0.024555          0.192989         0.013035  \n",
      "142            0.046121          0.205298         0.013580  \n",
      "\n",
      "2-top CV-models:\n",
      "      mean_fit_time  std_fit_time  mean_score_time  std_score_time  \\\n",
      "128       0.101168      0.003913         0.009549        0.000101   \n",
      "140       0.105142      0.007594         0.009577        0.000195   \n",
      "\n",
      "    param_colsample_bytree param_learning_rate param_max_depth  \\\n",
      "128                   0.66                 0.5              36   \n",
      "140                   0.66                 0.5              72   \n",
      "\n",
      "    param_min_child_weight param_n_estimators param_subsample  ...  \\\n",
      "128                      4                 50             0.8  ...   \n",
      "140                      4                 50             0.8  ...   \n",
      "\n",
      "    std_test_recall  rank_test_recall  split0_test_f1  split1_test_f1  \\\n",
      "128        0.022266                 1        0.262997        0.299065   \n",
      "140        0.022266                 1        0.262997        0.299065   \n",
      "\n",
      "     split2_test_f1  split3_test_f1  split4_test_f1  mean_test_f1  \\\n",
      "128        0.278261        0.222222         0.29003      0.270515   \n",
      "140        0.278261        0.222222         0.29003      0.270515   \n",
      "\n",
      "     std_test_f1  rank_test_f1  \n",
      "128     0.026999             1  \n",
      "140     0.026999             1  \n",
      "\n",
      "[2 rows x 43 columns]\n",
      "\n"
     ]
    }
   ],
   "source": [
    "check_fit_results(grad_boost)"
   ]
  },
  {
   "cell_type": "code",
   "execution_count": 651,
   "metadata": {},
   "outputs": [
    {
     "name": "stdout",
     "output_type": "stream",
     "text": [
      "Metrics match, metrics to extract are:\n",
      " expected {'precision', 'f1', 'recall', 'accuracy'}\n",
      "\n"
     ]
    }
   ],
   "source": [
    "temp_scores = table_model_scores(grad_boost['model_name']+'_CV', grad_boost['model'], scoring, 'f1')\n",
    "models_scores = pd.concat([models_scores, temp_scores], axis=0)"
   ]
  },
  {
   "cell_type": "code",
   "execution_count": 652,
   "metadata": {},
   "outputs": [
    {
     "data": {
      "text/html": [
       "<div>\n",
       "<style scoped>\n",
       "    .dataframe tbody tr th:only-of-type {\n",
       "        vertical-align: middle;\n",
       "    }\n",
       "\n",
       "    .dataframe tbody tr th {\n",
       "        vertical-align: top;\n",
       "    }\n",
       "\n",
       "    .dataframe thead th {\n",
       "        text-align: right;\n",
       "    }\n",
       "</style>\n",
       "<table border=\"1\" class=\"dataframe\">\n",
       "  <thead>\n",
       "    <tr style=\"text-align: right;\">\n",
       "      <th></th>\n",
       "      <th>model</th>\n",
       "      <th>f1</th>\n",
       "      <th>accuracy</th>\n",
       "      <th>precision</th>\n",
       "      <th>recall</th>\n",
       "    </tr>\n",
       "  </thead>\n",
       "  <tbody>\n",
       "    <tr>\n",
       "      <th>0</th>\n",
       "      <td>RandomForestClassifier_CV</td>\n",
       "      <td>0.201646</td>\n",
       "      <td>0.824450</td>\n",
       "      <td>0.471218</td>\n",
       "      <td>0.128682</td>\n",
       "    </tr>\n",
       "    <tr>\n",
       "      <th>0</th>\n",
       "      <td>RandomForestClassifier_pred_valid</td>\n",
       "      <td>0.223176</td>\n",
       "      <td>0.822983</td>\n",
       "      <td>0.456140</td>\n",
       "      <td>0.147727</td>\n",
       "    </tr>\n",
       "    <tr>\n",
       "      <th>0</th>\n",
       "      <td>RandomForestClassifier_pred_test</td>\n",
       "      <td>0.195991</td>\n",
       "      <td>0.823472</td>\n",
       "      <td>0.453608</td>\n",
       "      <td>0.125000</td>\n",
       "    </tr>\n",
       "    <tr>\n",
       "      <th>0</th>\n",
       "      <td>XGBClassifier_CV</td>\n",
       "      <td>0.270515</td>\n",
       "      <td>0.804075</td>\n",
       "      <td>0.378215</td>\n",
       "      <td>0.210968</td>\n",
       "    </tr>\n",
       "  </tbody>\n",
       "</table>\n",
       "</div>"
      ],
      "text/plain": [
       "                               model        f1  accuracy  precision    recall\n",
       "0          RandomForestClassifier_CV  0.201646  0.824450   0.471218  0.128682\n",
       "0  RandomForestClassifier_pred_valid  0.223176  0.822983   0.456140  0.147727\n",
       "0   RandomForestClassifier_pred_test  0.195991  0.823472   0.453608  0.125000\n",
       "0                   XGBClassifier_CV  0.270515  0.804075   0.378215  0.210968"
      ]
     },
     "execution_count": 652,
     "metadata": {},
     "output_type": "execute_result"
    }
   ],
   "source": [
    "models_scores"
   ]
  },
  {
   "cell_type": "markdown",
   "metadata": {},
   "source": [
    "### Predict on validation and test sets:"
   ]
  },
  {
   "cell_type": "code",
   "execution_count": 653,
   "metadata": {
    "id": "UFLTmIDm6805",
    "scrolled": true
   },
   "outputs": [
    {
     "name": "stdout",
     "output_type": "stream",
     "text": [
      "Metrics match, metrics to extract are:\n",
      " expected {'precision', 'f1', 'recall', 'accuracy'}\n",
      "\n",
      "Metrics match, metrics to extract are:\n",
      " expected {'precision', 'f1', 'recall', 'accuracy'}\n",
      "\n"
     ]
    },
    {
     "data": {
      "text/html": [
       "<div>\n",
       "<style scoped>\n",
       "    .dataframe tbody tr th:only-of-type {\n",
       "        vertical-align: middle;\n",
       "    }\n",
       "\n",
       "    .dataframe tbody tr th {\n",
       "        vertical-align: top;\n",
       "    }\n",
       "\n",
       "    .dataframe thead th {\n",
       "        text-align: right;\n",
       "    }\n",
       "</style>\n",
       "<table border=\"1\" class=\"dataframe\">\n",
       "  <thead>\n",
       "    <tr style=\"text-align: right;\">\n",
       "      <th></th>\n",
       "      <th>model</th>\n",
       "      <th>f1</th>\n",
       "      <th>accuracy</th>\n",
       "      <th>precision</th>\n",
       "      <th>recall</th>\n",
       "    </tr>\n",
       "  </thead>\n",
       "  <tbody>\n",
       "    <tr>\n",
       "      <th>0</th>\n",
       "      <td>RandomForestClassifier_CV</td>\n",
       "      <td>0.201646</td>\n",
       "      <td>0.824450</td>\n",
       "      <td>0.471218</td>\n",
       "      <td>0.128682</td>\n",
       "    </tr>\n",
       "    <tr>\n",
       "      <th>0</th>\n",
       "      <td>RandomForestClassifier_pred_valid</td>\n",
       "      <td>0.223176</td>\n",
       "      <td>0.822983</td>\n",
       "      <td>0.456140</td>\n",
       "      <td>0.147727</td>\n",
       "    </tr>\n",
       "    <tr>\n",
       "      <th>0</th>\n",
       "      <td>RandomForestClassifier_pred_test</td>\n",
       "      <td>0.195991</td>\n",
       "      <td>0.823472</td>\n",
       "      <td>0.453608</td>\n",
       "      <td>0.125000</td>\n",
       "    </tr>\n",
       "    <tr>\n",
       "      <th>0</th>\n",
       "      <td>XGBClassifier_CV</td>\n",
       "      <td>0.270515</td>\n",
       "      <td>0.804075</td>\n",
       "      <td>0.378215</td>\n",
       "      <td>0.210968</td>\n",
       "    </tr>\n",
       "    <tr>\n",
       "      <th>0</th>\n",
       "      <td>XGBClassifier_pred_valid</td>\n",
       "      <td>0.218519</td>\n",
       "      <td>0.793643</td>\n",
       "      <td>0.313830</td>\n",
       "      <td>0.167614</td>\n",
       "    </tr>\n",
       "    <tr>\n",
       "      <th>0</th>\n",
       "      <td>XGBClassifier_pred_test</td>\n",
       "      <td>0.225191</td>\n",
       "      <td>0.801467</td>\n",
       "      <td>0.343023</td>\n",
       "      <td>0.167614</td>\n",
       "    </tr>\n",
       "  </tbody>\n",
       "</table>\n",
       "</div>"
      ],
      "text/plain": [
       "                               model        f1  accuracy  precision    recall\n",
       "0          RandomForestClassifier_CV  0.201646  0.824450   0.471218  0.128682\n",
       "0  RandomForestClassifier_pred_valid  0.223176  0.822983   0.456140  0.147727\n",
       "0   RandomForestClassifier_pred_test  0.195991  0.823472   0.453608  0.125000\n",
       "0                   XGBClassifier_CV  0.270515  0.804075   0.378215  0.210968\n",
       "0           XGBClassifier_pred_valid  0.218519  0.793643   0.313830  0.167614\n",
       "0            XGBClassifier_pred_test  0.225191  0.801467   0.343023  0.167614"
      ]
     },
     "execution_count": 653,
     "metadata": {},
     "output_type": "execute_result"
    }
   ],
   "source": [
    "grad_boost['y_predict_valid_scores'] = prediction_scores(grad_boost['model_name']+'_pred_valid',\n",
    "                                                            grad_boost['y_predict_valid'],\n",
    "                                                            y['valid'],\n",
    "                                                            scoring)\n",
    "\n",
    "grad_boost['y_predict_test_scores'] = prediction_scores(grad_boost['model_name']+'_pred_test',\n",
    "                                                            grad_boost['y_predict_test'],\n",
    "                                                            y['test'],\n",
    "                                                            scoring)\n",
    "# Append scores to table of all model scores:\n",
    "models_scores = pd.concat([models_scores, grad_boost['y_predict_valid_scores']], axis=0)\n",
    "models_scores = pd.concat([models_scores, grad_boost['y_predict_test_scores']], axis=0)\n",
    "models_scores"
   ]
  },
  {
   "cell_type": "markdown",
   "metadata": {
    "id": "c5IRnMO27KdD"
   },
   "source": [
    "This model fit the data even better than the random forest model. The recall score is nearly double the recall score from the logistic regression model from the previous course, and it's almost 50% better than the random forest model's recall score, while maintaining a similar accuracy and precision score."
   ]
  },
  {
   "cell_type": "markdown",
   "metadata": {
    "id": "GspkQqUNgIm3"
   },
   "source": [
    "Just like with the random forest model, the XGBoost model's validation scores were lower, but only very slightly. It is still the clear champion."
   ]
  },
  {
   "cell_type": "markdown",
   "metadata": {
    "id": "S5GNoz_QgWug"
   },
   "source": [
    "# **Task 8. Model Evaluation**"
   ]
  },
  {
   "cell_type": "markdown",
   "metadata": {
    "jp-MarkdownHeadingCollapsed": true
   },
   "source": [
    "## **Confusion Matrix**\n",
    "For best model on test set"
   ]
  },
  {
   "cell_type": "code",
   "execution_count": 655,
   "metadata": {},
   "outputs": [
    {
     "data": {
      "text/plain": [
       "dict_keys(['model', 'model_name', 'y_predict_valid', 'y_predict_test', 'cv_results', 'y_predict_valid_scores', 'y_predict_test_scores'])"
      ]
     },
     "execution_count": 655,
     "metadata": {},
     "output_type": "execute_result"
    }
   ],
   "source": [
    "grad_boost.keys()"
   ]
  },
  {
   "cell_type": "code",
   "execution_count": 657,
   "metadata": {
    "id": "WF3KErX8gXPc",
    "scrolled": true
   },
   "outputs": [
    {
     "name": "stdout",
     "output_type": "stream",
     "text": [
      "[[1580  113]\n",
      " [ 293   59]]\n"
     ]
    }
   ],
   "source": [
    "# Confusion matrix:\n",
    "grad_boost['cm_pred_test'] = metrics.confusion_matrix(y['test'], grad_boost['y_predict_test'],\n",
    "                                                      labels=grad_boost['model'].best_estimator_.classes_)\n",
    "print(grad_boost['cm_pred_test'])"
   ]
  },
  {
   "cell_type": "code",
   "execution_count": 659,
   "metadata": {},
   "outputs": [
    {
     "data": {
      "text/plain": [
       "array([0, 1])"
      ]
     },
     "execution_count": 659,
     "metadata": {},
     "output_type": "execute_result"
    }
   ],
   "source": [
    "grad_boost['model'].best_estimator_.classes_"
   ]
  },
  {
   "cell_type": "code",
   "execution_count": 661,
   "metadata": {},
   "outputs": [
    {
     "data": {
      "text/plain": [
       "<sklearn.metrics._plot.confusion_matrix.ConfusionMatrixDisplay at 0x7f63a2683e50>"
      ]
     },
     "execution_count": 661,
     "metadata": {},
     "output_type": "execute_result"
    },
    {
     "data": {
      "image/png": "[encoded data removed]",
      "text/plain": [
       "<Figure size 640x480 with 2 Axes>"
      ]
     },
     "metadata": {},
     "output_type": "display_data"
    }
   ],
   "source": [
    "import matplotlib\n",
    "matplotlib.rc_file_defaults()\n",
    "disp = metrics.ConfusionMatrixDisplay(confusion_matrix=grad_boost['cm_pred_test'], display_labels=['Retained', 'Churned'])\n",
    "disp.plot()"
   ]
  },
  {
   "cell_type": "code",
   "execution_count": 662,
   "metadata": {},
   "outputs": [
    {
     "data": {
      "text/html": [
       "<div>\n",
       "<style scoped>\n",
       "    .dataframe tbody tr th:only-of-type {\n",
       "        vertical-align: middle;\n",
       "    }\n",
       "\n",
       "    .dataframe tbody tr th {\n",
       "        vertical-align: top;\n",
       "    }\n",
       "\n",
       "    .dataframe thead th {\n",
       "        text-align: right;\n",
       "    }\n",
       "</style>\n",
       "<table border=\"1\" class=\"dataframe\">\n",
       "  <thead>\n",
       "    <tr style=\"text-align: right;\">\n",
       "      <th></th>\n",
       "      <th>model</th>\n",
       "      <th>f1</th>\n",
       "      <th>accuracy</th>\n",
       "      <th>precision</th>\n",
       "      <th>recall</th>\n",
       "    </tr>\n",
       "  </thead>\n",
       "  <tbody>\n",
       "    <tr>\n",
       "      <th>0</th>\n",
       "      <td>XGBClassifier_pred_test</td>\n",
       "      <td>0.225191</td>\n",
       "      <td>0.801467</td>\n",
       "      <td>0.343023</td>\n",
       "      <td>0.167614</td>\n",
       "    </tr>\n",
       "  </tbody>\n",
       "</table>\n",
       "</div>"
      ],
      "text/plain": [
       "                     model        f1  accuracy  precision    recall\n",
       "0  XGBClassifier_pred_test  0.225191  0.801467   0.343023  0.167614"
      ]
     },
     "execution_count": 662,
     "metadata": {},
     "output_type": "execute_result"
    }
   ],
   "source": [
    "temp_mask = models_scores['model'] == 'XGBClassifier_pred_test'\n",
    "models_scores[temp_mask]"
   ]
  },
  {
   "cell_type": "markdown",
   "metadata": {
    "id": "6xL4OujkgYC3"
   },
   "source": [
    "### observations\n",
    "\n",
    "The model predicted nearly three times as many FNs than it did FPs.\n",
    "\n",
    "In this use case FNs are less acceptable than FPs.\n",
    "\n",
    "The model correctly identified only 17% of the users who actually churned.\n",
    "\n",
    "The model is not good for its purpose."
   ]
  },
  {
   "cell_type": "markdown",
   "metadata": {
    "id": "P33INGPmgY1o",
    "jp-MarkdownHeadingCollapsed": true
   },
   "source": [
    "## **Feature importance**\n",
    "\n",
    "Use the `plot_importance` function to inspect the most important features of your final model."
   ]
  },
  {
   "cell_type": "code",
   "execution_count": 663,
   "metadata": {
    "id": "N4fc2i8XgZoE",
    "scrolled": true
   },
   "outputs": [
    {
     "data": {
      "text/plain": [
       "<Axes: title={'center': 'Feature importance'}, xlabel='F score', ylabel='Features'>"
      ]
     },
     "execution_count": 663,
     "metadata": {},
     "output_type": "execute_result"
    },
    {
     "data": {
      "image/png": "[encoded data removed]",
      "text/plain": [
       "<Figure size 640x480 with 1 Axes>"
      ]
     },
     "metadata": {},
     "output_type": "display_data"
    }
   ],
   "source": [
    "plot_importance(grad_boost['model'].best_estimator_)"
   ]
  },
  {
   "cell_type": "markdown",
   "metadata": {},
   "source": [
    "### Get feature relative importances and compare to F-Score:"
   ]
  },
  {
   "cell_type": "code",
   "execution_count": 710,
   "metadata": {},
   "outputs": [],
   "source": [
    "# calculate feature importances. Returns a 1-dim array with importances\n",
    "random_forest['feat_importances_best'] = random_forest['model'].best_estimator_.feature_importances_ \n",
    "grad_boost['feat_importances_best'] = grad_boost['model'].best_estimator_.feature_importances_\n",
    "\n"
   ]
  },
  {
   "cell_type": "code",
   "execution_count": 740,
   "metadata": {},
   "outputs": [],
   "source": [
    "def table_feat_importance(model_dict_name):\n",
    "    index = list(model_dict_name['model'].best_estimator_.feature_names_in_)\n",
    "    #print(index)\n",
    "    table_df = pd.DataFrame(data=model_dict_name['model'].best_estimator_.feature_importances_,\n",
    "                            index=index,\n",
    "                            columns=['feature_importance'])\n",
    "    #print(table_df)\n",
    "    return table_df"
   ]
  },
  {
   "cell_type": "code",
   "execution_count": 741,
   "metadata": {},
   "outputs": [],
   "source": [
    "random_forest['feat_importances_best'] = table_feat_importance(random_forest)\n",
    "grad_boost['feat_importances_best'] = table_feat_importance(grad_boost)\n",
    "# Sort reference model:\n",
    "grad_boost['feat_importances_best'] = grad_boost['feat_importances_best'].sort_values(by='feature_importance',\n",
    "                                                                                               ascending=False)\n",
    "# Reindex other model to index of reference:\n",
    "random_forest['feat_importances_best'] = random_forest['feat_importances_best'].reindex(grad_boost['feat_importances_best'].index)"
   ]
  },
  {
   "cell_type": "code",
   "execution_count": 742,
   "metadata": {},
   "outputs": [
    {
     "data": {
      "text/html": [
       "<div>\n",
       "<style scoped>\n",
       "    .dataframe tbody tr th:only-of-type {\n",
       "        vertical-align: middle;\n",
       "    }\n",
       "\n",
       "    .dataframe tbody tr th {\n",
       "        vertical-align: top;\n",
       "    }\n",
       "\n",
       "    .dataframe thead th {\n",
       "        text-align: right;\n",
       "    }\n",
       "</style>\n",
       "<table border=\"1\" class=\"dataframe\">\n",
       "  <thead>\n",
       "    <tr style=\"text-align: right;\">\n",
       "      <th></th>\n",
       "      <th>activity_days</th>\n",
       "      <th>device_encoded</th>\n",
       "      <th>total_sessions_per_day</th>\n",
       "      <th>sessions</th>\n",
       "      <th>total_sessions</th>\n",
       "      <th>total_navigations_fav1</th>\n",
       "      <th>driven_km_drives</th>\n",
       "      <th>percent_sessions_to_favorites</th>\n",
       "      <th>driving_days</th>\n",
       "      <th>duration_minutes_drives</th>\n",
       "      <th>total_navigations_fav2</th>\n",
       "      <th>km_per_hour</th>\n",
       "      <th>km_per_driving_day</th>\n",
       "      <th>km_per_drive</th>\n",
       "      <th>drives</th>\n",
       "      <th>percent_sessions_last_month</th>\n",
       "      <th>n_days_after_onboarding</th>\n",
       "      <th>pro_driver</th>\n",
       "    </tr>\n",
       "  </thead>\n",
       "  <tbody>\n",
       "    <tr>\n",
       "      <th>feature_importance</th>\n",
       "      <td>0.144793</td>\n",
       "      <td>0.060221</td>\n",
       "      <td>0.059447</td>\n",
       "      <td>0.05852</td>\n",
       "      <td>0.05543</td>\n",
       "      <td>0.053708</td>\n",
       "      <td>0.053127</td>\n",
       "      <td>0.052208</td>\n",
       "      <td>0.050963</td>\n",
       "      <td>0.049102</td>\n",
       "      <td>0.048314</td>\n",
       "      <td>0.048229</td>\n",
       "      <td>0.047594</td>\n",
       "      <td>0.047463</td>\n",
       "      <td>0.046941</td>\n",
       "      <td>0.043342</td>\n",
       "      <td>0.040804</td>\n",
       "      <td>0.039795</td>\n",
       "    </tr>\n",
       "  </tbody>\n",
       "</table>\n",
       "</div>"
      ],
      "text/plain": [
       "                    activity_days  device_encoded  total_sessions_per_day  \\\n",
       "feature_importance       0.144793        0.060221                0.059447   \n",
       "\n",
       "                    sessions  total_sessions  total_navigations_fav1  \\\n",
       "feature_importance   0.05852         0.05543                0.053708   \n",
       "\n",
       "                    driven_km_drives  percent_sessions_to_favorites  \\\n",
       "feature_importance          0.053127                       0.052208   \n",
       "\n",
       "                    driving_days  duration_minutes_drives  \\\n",
       "feature_importance      0.050963                 0.049102   \n",
       "\n",
       "                    total_navigations_fav2  km_per_hour  km_per_driving_day  \\\n",
       "feature_importance                0.048314     0.048229            0.047594   \n",
       "\n",
       "                    km_per_drive    drives  percent_sessions_last_month  \\\n",
       "feature_importance      0.047463  0.046941                     0.043342   \n",
       "\n",
       "                    n_days_after_onboarding  pro_driver  \n",
       "feature_importance                 0.040804    0.039795  "
      ]
     },
     "execution_count": 742,
     "metadata": {},
     "output_type": "execute_result"
    }
   ],
   "source": [
    "grad_boost['feat_importances_best'].transpose()"
   ]
  },
  {
   "cell_type": "code",
   "execution_count": 743,
   "metadata": {},
   "outputs": [
    {
     "data": {
      "text/html": [
       "<div>\n",
       "<style scoped>\n",
       "    .dataframe tbody tr th:only-of-type {\n",
       "        vertical-align: middle;\n",
       "    }\n",
       "\n",
       "    .dataframe tbody tr th {\n",
       "        vertical-align: top;\n",
       "    }\n",
       "\n",
       "    .dataframe thead th {\n",
       "        text-align: right;\n",
       "    }\n",
       "</style>\n",
       "<table border=\"1\" class=\"dataframe\">\n",
       "  <thead>\n",
       "    <tr style=\"text-align: right;\">\n",
       "      <th></th>\n",
       "      <th>activity_days</th>\n",
       "      <th>device_encoded</th>\n",
       "      <th>total_sessions_per_day</th>\n",
       "      <th>sessions</th>\n",
       "      <th>total_sessions</th>\n",
       "      <th>total_navigations_fav1</th>\n",
       "      <th>driven_km_drives</th>\n",
       "      <th>percent_sessions_to_favorites</th>\n",
       "      <th>driving_days</th>\n",
       "      <th>duration_minutes_drives</th>\n",
       "      <th>total_navigations_fav2</th>\n",
       "      <th>km_per_hour</th>\n",
       "      <th>km_per_driving_day</th>\n",
       "      <th>km_per_drive</th>\n",
       "      <th>drives</th>\n",
       "      <th>percent_sessions_last_month</th>\n",
       "      <th>n_days_after_onboarding</th>\n",
       "      <th>pro_driver</th>\n",
       "    </tr>\n",
       "  </thead>\n",
       "  <tbody>\n",
       "    <tr>\n",
       "      <th>feature_importance</th>\n",
       "      <td>0.102951</td>\n",
       "      <td>0.008994</td>\n",
       "      <td>0.063648</td>\n",
       "      <td>0.037937</td>\n",
       "      <td>0.058449</td>\n",
       "      <td>0.063971</td>\n",
       "      <td>0.058169</td>\n",
       "      <td>0.058695</td>\n",
       "      <td>0.053313</td>\n",
       "      <td>0.058963</td>\n",
       "      <td>0.046936</td>\n",
       "      <td>0.078661</td>\n",
       "      <td>0.060228</td>\n",
       "      <td>0.058842</td>\n",
       "      <td>0.034895</td>\n",
       "      <td>0.062259</td>\n",
       "      <td>0.091716</td>\n",
       "      <td>0.001373</td>\n",
       "    </tr>\n",
       "  </tbody>\n",
       "</table>\n",
       "</div>"
      ],
      "text/plain": [
       "                    activity_days  device_encoded  total_sessions_per_day  \\\n",
       "feature_importance       0.102951        0.008994                0.063648   \n",
       "\n",
       "                    sessions  total_sessions  total_navigations_fav1  \\\n",
       "feature_importance  0.037937        0.058449                0.063971   \n",
       "\n",
       "                    driven_km_drives  percent_sessions_to_favorites  \\\n",
       "feature_importance          0.058169                       0.058695   \n",
       "\n",
       "                    driving_days  duration_minutes_drives  \\\n",
       "feature_importance      0.053313                 0.058963   \n",
       "\n",
       "                    total_navigations_fav2  km_per_hour  km_per_driving_day  \\\n",
       "feature_importance                0.046936     0.078661            0.060228   \n",
       "\n",
       "                    km_per_drive    drives  percent_sessions_last_month  \\\n",
       "feature_importance      0.058842  0.034895                     0.062259   \n",
       "\n",
       "                    n_days_after_onboarding  pro_driver  \n",
       "feature_importance                 0.091716    0.001373  "
      ]
     },
     "execution_count": 743,
     "metadata": {},
     "output_type": "execute_result"
    }
   ],
   "source": [
    "random_forest['feat_importances_best'].transpose()"
   ]
  },
  {
   "cell_type": "code",
   "execution_count": 738,
   "metadata": {},
   "outputs": [
    {
     "data": {
      "text/html": [
       "<div>\n",
       "<style scoped>\n",
       "    .dataframe tbody tr th:only-of-type {\n",
       "        vertical-align: middle;\n",
       "    }\n",
       "\n",
       "    .dataframe tbody tr th {\n",
       "        vertical-align: top;\n",
       "    }\n",
       "\n",
       "    .dataframe thead th {\n",
       "        text-align: right;\n",
       "    }\n",
       "</style>\n",
       "<table border=\"1\" class=\"dataframe\">\n",
       "  <thead>\n",
       "    <tr style=\"text-align: right;\">\n",
       "      <th></th>\n",
       "      <th>random_forest_feat_importance</th>\n",
       "      <th>gradient_boost_feat_importance</th>\n",
       "    </tr>\n",
       "  </thead>\n",
       "  <tbody>\n",
       "    <tr>\n",
       "      <th>activity_days</th>\n",
       "      <td>0.102951</td>\n",
       "      <td>0.144793</td>\n",
       "    </tr>\n",
       "    <tr>\n",
       "      <th>device_encoded</th>\n",
       "      <td>0.008994</td>\n",
       "      <td>0.060221</td>\n",
       "    </tr>\n",
       "    <tr>\n",
       "      <th>total_sessions_per_day</th>\n",
       "      <td>0.063648</td>\n",
       "      <td>0.059447</td>\n",
       "    </tr>\n",
       "    <tr>\n",
       "      <th>sessions</th>\n",
       "      <td>0.037937</td>\n",
       "      <td>0.058520</td>\n",
       "    </tr>\n",
       "    <tr>\n",
       "      <th>total_sessions</th>\n",
       "      <td>0.058449</td>\n",
       "      <td>0.055430</td>\n",
       "    </tr>\n",
       "    <tr>\n",
       "      <th>total_navigations_fav1</th>\n",
       "      <td>0.063971</td>\n",
       "      <td>0.053708</td>\n",
       "    </tr>\n",
       "    <tr>\n",
       "      <th>driven_km_drives</th>\n",
       "      <td>0.058169</td>\n",
       "      <td>0.053127</td>\n",
       "    </tr>\n",
       "    <tr>\n",
       "      <th>percent_sessions_to_favorites</th>\n",
       "      <td>0.058695</td>\n",
       "      <td>0.052208</td>\n",
       "    </tr>\n",
       "    <tr>\n",
       "      <th>driving_days</th>\n",
       "      <td>0.053313</td>\n",
       "      <td>0.050963</td>\n",
       "    </tr>\n",
       "    <tr>\n",
       "      <th>duration_minutes_drives</th>\n",
       "      <td>0.058963</td>\n",
       "      <td>0.049102</td>\n",
       "    </tr>\n",
       "    <tr>\n",
       "      <th>total_navigations_fav2</th>\n",
       "      <td>0.046936</td>\n",
       "      <td>0.048314</td>\n",
       "    </tr>\n",
       "    <tr>\n",
       "      <th>km_per_hour</th>\n",
       "      <td>0.078661</td>\n",
       "      <td>0.048229</td>\n",
       "    </tr>\n",
       "    <tr>\n",
       "      <th>km_per_driving_day</th>\n",
       "      <td>0.060228</td>\n",
       "      <td>0.047594</td>\n",
       "    </tr>\n",
       "    <tr>\n",
       "      <th>km_per_drive</th>\n",
       "      <td>0.058842</td>\n",
       "      <td>0.047463</td>\n",
       "    </tr>\n",
       "    <tr>\n",
       "      <th>drives</th>\n",
       "      <td>0.034895</td>\n",
       "      <td>0.046941</td>\n",
       "    </tr>\n",
       "    <tr>\n",
       "      <th>percent_sessions_last_month</th>\n",
       "      <td>0.062259</td>\n",
       "      <td>0.043342</td>\n",
       "    </tr>\n",
       "    <tr>\n",
       "      <th>n_days_after_onboarding</th>\n",
       "      <td>0.091716</td>\n",
       "      <td>0.040804</td>\n",
       "    </tr>\n",
       "    <tr>\n",
       "      <th>pro_driver</th>\n",
       "      <td>0.001373</td>\n",
       "      <td>0.039795</td>\n",
       "    </tr>\n",
       "  </tbody>\n",
       "</table>\n",
       "</div>"
      ],
      "text/plain": [
       "                               random_forest_feat_importance  \\\n",
       "activity_days                                       0.102951   \n",
       "device_encoded                                      0.008994   \n",
       "total_sessions_per_day                              0.063648   \n",
       "sessions                                            0.037937   \n",
       "total_sessions                                      0.058449   \n",
       "total_navigations_fav1                              0.063971   \n",
       "driven_km_drives                                    0.058169   \n",
       "percent_sessions_to_favorites                       0.058695   \n",
       "driving_days                                        0.053313   \n",
       "duration_minutes_drives                             0.058963   \n",
       "total_navigations_fav2                              0.046936   \n",
       "km_per_hour                                         0.078661   \n",
       "km_per_driving_day                                  0.060228   \n",
       "km_per_drive                                        0.058842   \n",
       "drives                                              0.034895   \n",
       "percent_sessions_last_month                         0.062259   \n",
       "n_days_after_onboarding                             0.091716   \n",
       "pro_driver                                          0.001373   \n",
       "\n",
       "                               gradient_boost_feat_importance  \n",
       "activity_days                                        0.144793  \n",
       "device_encoded                                       0.060221  \n",
       "total_sessions_per_day                               0.059447  \n",
       "sessions                                             0.058520  \n",
       "total_sessions                                       0.055430  \n",
       "total_navigations_fav1                               0.053708  \n",
       "driven_km_drives                                     0.053127  \n",
       "percent_sessions_to_favorites                        0.052208  \n",
       "driving_days                                         0.050963  \n",
       "duration_minutes_drives                              0.049102  \n",
       "total_navigations_fav2                               0.048314  \n",
       "km_per_hour                                          0.048229  \n",
       "km_per_driving_day                                   0.047594  \n",
       "km_per_drive                                         0.047463  \n",
       "drives                                               0.046941  \n",
       "percent_sessions_last_month                          0.043342  \n",
       "n_days_after_onboarding                              0.040804  \n",
       "pro_driver                                           0.039795  "
      ]
     },
     "execution_count": 738,
     "metadata": {},
     "output_type": "execute_result"
    }
   ],
   "source": [
    "compare_models = dict()\n",
    "compare_models['feat_importance'] = pd.concat( [random_forest['feat_importances_best'], grad_boost['feat_importances_best']],\n",
    "                                           axis=1)\n",
    "compare_models['feat_importance'].columns=['random_forest_feat_importance', 'gradient_boost_feat_importance']\n",
    "compare_models['feat_importance']"
   ]
  },
  {
   "cell_type": "code",
   "execution_count": 744,
   "metadata": {},
   "outputs": [
    {
     "data": {
      "text/plain": [
       "1.0"
      ]
     },
     "execution_count": 744,
     "metadata": {},
     "output_type": "execute_result"
    }
   ],
   "source": [
    "compare_models['feat_importance']['gradient_boost_feat_importance'].sum()"
   ]
  },
  {
   "cell_type": "code",
   "execution_count": 739,
   "metadata": {},
   "outputs": [
    {
     "data": {
      "image/png": "[encoded data removed]",
      "text/plain": [
       "<Figure size 1000x500 with 1 Axes>"
      ]
     },
     "metadata": {},
     "output_type": "display_data"
    }
   ],
   "source": [
    "# Numbers of pairs of bars you want\n",
    "N = len(random_forest['feat_importances_best'])\n",
    "\n",
    "# Position of bars on x-axis\n",
    "ind = np.arange(N)\n",
    "# Figure size\n",
    "plt.figure(figsize=(10,5))\n",
    "# Width of a bar \n",
    "width = 0.3       \n",
    "\n",
    "# Plotting\n",
    "plt.bar(ind, compare_models['feat_importance']['random_forest_feat_importance'], width, label='Random forest best estimator')\n",
    "plt.bar(ind + width, compare_models['feat_importance']['gradient_boost_feat_importance'], width, label='Gradient booster best estimator')\n",
    "\n",
    "plt.xlabel('Feature')\n",
    "plt.ylabel('Feature importance')\n",
    "#plt.title('Here goes title of the plot')\n",
    "\n",
    "# xticks()\n",
    "# First argument - A list of positions at which ticks should be placed\n",
    "# Second argument -  A list of labels to place at the given locations\n",
    "plt.xticks(ind + width / 2, list(grad_boost['feat_importances_best'].index), rotation=45, horizontalalignment='right')\n",
    "\n",
    "\n",
    "# Finding the best position for legends and putting it\n",
    "plt.legend(loc='best')\n",
    "plt.grid(True)\n",
    "\n",
    "plt.show()"
   ]
  },
  {
   "cell_type": "markdown",
   "metadata": {},
   "source": [
    "## **Observations**\n",
    " plot_importance(model.best_estimator_) shows a \"F-score\" which does not coincide with the values found\n",
    " with model.best_estimator_.feature_importances_ \n",
    "\n",
    " It is not only that the numbers are different but the cardinality is also different!"
   ]
  },
  {
   "cell_type": "markdown",
   "metadata": {
    "id": "EU3GIZNrga5z"
   },
   "source": [
    "The XGBoost model made more use of many of the features than did the logistic regression model from the previous course, which weighted a single feature (`activity_days`) very heavily in its final prediction."
   ]
  },
  {
   "cell_type": "markdown",
   "metadata": {
    "id": "ij_DDQ2xSwyD"
   },
   "source": [
    "# **Task 9. Further Tuning**\n",
    "Can the models be improved?"
   ]
  },
  {
   "cell_type": "markdown",
   "metadata": {
    "id": "cw4qgviwSwXK"
   },
   "source": [
    "#### **Identify an optimal decision threshold**\n",
    "\n",
    "The default decision threshold for most implementations of classification algorithms&mdash;including scikit-learn's&mdash;is 0.5. This means that, in the case of the Waze models, if they predicted that a given user had a 50% probability or greater of churning, then that user was assigned a predicted value of `1`&mdash;the user was predicted to churn.\n",
    "\n",
    "With imbalanced datasets where the response class is a minority, this threshold might not be ideal. You learned that a precision-recall curve can help to visualize the trade-off between your model's precision and recall.\n",
    "\n",
    "Here's the precision-recall curve for the XGBoost champion model on the test data."
   ]
  },
  {
   "cell_type": "code",
   "execution_count": 751,
   "metadata": {
    "id": "kVgiwBWtSxq4",
    "scrolled": true
   },
   "outputs": [
    {
     "data": {
      "text/plain": [
       "<sklearn.metrics._plot.precision_recall_curve.PrecisionRecallDisplay at 0x7f63a2e42730>"
      ]
     },
     "execution_count": 751,
     "metadata": {},
     "output_type": "execute_result"
    },
    {
     "data": {
      "image/png": "[encoded data removed]",
      "text/plain": [
       "<Figure size 640x480 with 1 Axes>"
      ]
     },
     "metadata": {},
     "output_type": "display_data"
    }
   ],
   "source": [
    "# Plot precision-recall curve\n",
    "PrecisionRecallDisplay.from_estimator(grad_boost['model'], X['test'],  y['test'])"
   ]
  },
  {
   "cell_type": "code",
   "execution_count": 752,
   "metadata": {},
   "outputs": [
    {
     "data": {
      "text/plain": [
       "<sklearn.metrics._plot.precision_recall_curve.PrecisionRecallDisplay at 0x7f63a20a75e0>"
      ]
     },
     "execution_count": 752,
     "metadata": {},
     "output_type": "execute_result"
    },
    {
     "data": {
      "image/png": "[encoded data removed]",
      "text/plain": [
       "<Figure size 640x480 with 1 Axes>"
      ]
     },
     "metadata": {},
     "output_type": "display_data"
    }
   ],
   "source": [
    "PrecisionRecallDisplay.from_estimator(random_forest['model'], X['test'],  y['test'])"
   ]
  },
  {
   "cell_type": "markdown",
   "metadata": {
    "id": "wxyauTCNSyND"
   },
   "source": [
    "As recall increases, precision decreases. But what if you determined that false positives aren't much of a problem? For example, in the case of this Waze project, a false positive could just mean that a user who will not actually churn gets an email and a banner notification on their phone. It's very low risk.\n",
    "\n",
    "So, what if instead of using the default 0.5 decision threshold of the model, you used a lower threshold?\n",
    "\n",
    "Here's an example where the threshold is set to 0.4:"
   ]
  },
  {
   "cell_type": "code",
   "execution_count": 754,
   "metadata": {
    "id": "iiKAYfRwS1bW"
   },
   "outputs": [
    {
     "data": {
      "text/plain": [
       "dict_keys(['model', 'model_name', 'y_predict_valid', 'y_predict_test', 'cv_results', 'y_predict_valid_scores', 'y_predict_test_scores', 'cm_pred_test', 'feat_importances_best'])"
      ]
     },
     "execution_count": 754,
     "metadata": {},
     "output_type": "execute_result"
    }
   ],
   "source": [
    "grad_boost.keys()"
   ]
  },
  {
   "cell_type": "code",
   "execution_count": 756,
   "metadata": {},
   "outputs": [],
   "source": [
    "# Get predicted probabilities on the test data\n",
    "\n",
    "grad_boost['proba_test'] = grad_boost['model'].best_estimator_.predict_proba(X['test'])\n",
    "random_forest['proba_test'] = random_forest['model'].best_estimator_.predict_proba(X['test'])"
   ]
  },
  {
   "cell_type": "markdown",
   "metadata": {
    "id": "P4sLUzxFTcP9"
   },
   "source": [
    "The `predict_proba()` method returns a 2-D array of probabilities where each row represents a user. The first number in the row is the probability of belonging to the negative class, the second number in the row is the probability of belonging to the positive class. (Notice that the two numbers in each row are complimentary to each other and sum to one.)\n",
    "\n",
    "You can generate new predictions based on this array of probabilities by changing the decision threshold for what is considered a positive response. For example, the following code converts the predicted probabilities to {0, 1} predictions with a threshold of 0.4. In other words, any users who have a value ≥ 0.4 in the second column will get assigned a prediction of `1`, indicating that they churned."
   ]
  },
  {
   "cell_type": "code",
   "execution_count": 762,
   "metadata": {},
   "outputs": [
    {
     "data": {
      "text/plain": [
       "(2045, 2)"
      ]
     },
     "execution_count": 762,
     "metadata": {},
     "output_type": "execute_result"
    }
   ],
   "source": [
    "grad_boost['proba_test'].shape"
   ]
  },
  {
   "cell_type": "code",
   "execution_count": 763,
   "metadata": {},
   "outputs": [
    {
     "data": {
      "text/plain": [
       "array([[0.8637507 , 0.13624927],\n",
       "       [0.94901115, 0.05098888],\n",
       "       [0.99882317, 0.00117683],\n",
       "       ...,\n",
       "       [0.9945347 , 0.00546534],\n",
       "       [0.9982265 , 0.00177346],\n",
       "       [0.97629106, 0.02370897]], dtype=float32)"
      ]
     },
     "execution_count": 763,
     "metadata": {},
     "output_type": "execute_result"
    }
   ],
   "source": [
    "grad_boost['proba_test']\n"
   ]
  },
  {
   "cell_type": "code",
   "execution_count": 761,
   "metadata": {},
   "outputs": [
    {
     "data": {
      "text/plain": [
       "array([0.13624927, 0.05098888, 0.00117683, ..., 0.00546534, 0.00177346,\n",
       "       0.02370897], dtype=float32)"
      ]
     },
     "execution_count": 761,
     "metadata": {},
     "output_type": "execute_result"
    }
   ],
   "source": [
    "grad_boost['proba_test'][:,1]"
   ]
  },
  {
   "cell_type": "code",
   "execution_count": 782,
   "metadata": {
    "id": "ynzlIds4S1xi"
   },
   "outputs": [
    {
     "name": "stdout",
     "output_type": "stream",
     "text": [
      "Metrics match, metrics to extract are:\n",
      " expected {'precision', 'f1', 'recall', 'accuracy'}\n",
      "\n",
      "Metrics match, metrics to extract are:\n",
      " expected {'precision', 'f1', 'recall', 'accuracy'}\n",
      "\n",
      "Metrics match, metrics to extract are:\n",
      " expected {'precision', 'f1', 'recall', 'accuracy'}\n",
      "\n",
      "Metrics match, metrics to extract are:\n",
      " expected {'precision', 'f1', 'recall', 'accuracy'}\n",
      "\n"
     ]
    }
   ],
   "source": [
    "# Create an array of new predictions that assigns a 1 to any value >= 0.4\n",
    "\n",
    "for thres in [0.3, 0.4]:\n",
    "    \n",
    "    temp_y_pred = pd.Series(random_forest['proba_test'][:,1]) # isolate probabilty of 1\n",
    "    temp_y_pred = temp_y_pred.where(cond=temp_y_pred < thres, other=1)\n",
    "    temp_y_pred = temp_y_pred.round(0).astype(int)\n",
    "    #print(temp_y_pred)\n",
    "\n",
    "    random_forest['y_predict_test_scores_'+str(thres)] = prediction_scores(random_forest['model_name']+'_pred_test_'+str(thres),\n",
    "                                                                           temp_y_pred,\n",
    "                                                                           y['test'],\n",
    "                                                                           scoring)\n",
    "    # Append scores to table of all model scores:\n",
    "    models_scores = pd.concat([models_scores, random_forest['y_predict_test_scores_'+str(thres)]], axis=0)\n",
    "\n",
    "    temp_y_pred = pd.Series(grad_boost['proba_test'][:,1]) # isolate probabilty of 1\n",
    "    temp_y_pred = temp_y_pred.where(cond=temp_y_pred < thres, other=1)\n",
    "    temp_y_pred = temp_y_pred.round(0).astype(int)\n",
    "    grad_boost['y_predict_test_scores_'+str(thres)] = prediction_scores(grad_boost['model_name']+'_pred_test_'+str(thres),\n",
    "                                                                      temp_y_pred,\n",
    "                                                                      y['test'],\n",
    "                                                                      scoring)\n",
    "    # Append scores to table of all model scores:\n",
    "    models_scores = pd.concat([models_scores, grad_boost['y_predict_test_scores_'+str(thres)]], axis=0)\n"
   ]
  },
  {
   "cell_type": "code",
   "execution_count": 783,
   "metadata": {},
   "outputs": [
    {
     "data": {
      "text/html": [
       "<div>\n",
       "<style scoped>\n",
       "    .dataframe tbody tr th:only-of-type {\n",
       "        vertical-align: middle;\n",
       "    }\n",
       "\n",
       "    .dataframe tbody tr th {\n",
       "        vertical-align: top;\n",
       "    }\n",
       "\n",
       "    .dataframe thead th {\n",
       "        text-align: right;\n",
       "    }\n",
       "</style>\n",
       "<table border=\"1\" class=\"dataframe\">\n",
       "  <thead>\n",
       "    <tr style=\"text-align: right;\">\n",
       "      <th></th>\n",
       "      <th>model</th>\n",
       "      <th>f1</th>\n",
       "      <th>accuracy</th>\n",
       "      <th>precision</th>\n",
       "      <th>recall</th>\n",
       "    </tr>\n",
       "  </thead>\n",
       "  <tbody>\n",
       "    <tr>\n",
       "      <th>0</th>\n",
       "      <td>RandomForestClassifier_CV</td>\n",
       "      <td>0.201646</td>\n",
       "      <td>0.824450</td>\n",
       "      <td>0.471218</td>\n",
       "      <td>0.128682</td>\n",
       "    </tr>\n",
       "    <tr>\n",
       "      <th>0</th>\n",
       "      <td>RandomForestClassifier_pred_valid</td>\n",
       "      <td>0.223176</td>\n",
       "      <td>0.822983</td>\n",
       "      <td>0.456140</td>\n",
       "      <td>0.147727</td>\n",
       "    </tr>\n",
       "    <tr>\n",
       "      <th>0</th>\n",
       "      <td>RandomForestClassifier_pred_test</td>\n",
       "      <td>0.195991</td>\n",
       "      <td>0.823472</td>\n",
       "      <td>0.453608</td>\n",
       "      <td>0.125000</td>\n",
       "    </tr>\n",
       "    <tr>\n",
       "      <th>0</th>\n",
       "      <td>XGBClassifier_CV</td>\n",
       "      <td>0.270515</td>\n",
       "      <td>0.804075</td>\n",
       "      <td>0.378215</td>\n",
       "      <td>0.210968</td>\n",
       "    </tr>\n",
       "    <tr>\n",
       "      <th>0</th>\n",
       "      <td>XGBClassifier_pred_valid</td>\n",
       "      <td>0.218519</td>\n",
       "      <td>0.793643</td>\n",
       "      <td>0.313830</td>\n",
       "      <td>0.167614</td>\n",
       "    </tr>\n",
       "    <tr>\n",
       "      <th>0</th>\n",
       "      <td>XGBClassifier_pred_test</td>\n",
       "      <td>0.225191</td>\n",
       "      <td>0.801467</td>\n",
       "      <td>0.343023</td>\n",
       "      <td>0.167614</td>\n",
       "    </tr>\n",
       "    <tr>\n",
       "      <th>0</th>\n",
       "      <td>RandomForestClassifier_pred_test_0.3</td>\n",
       "      <td>0.424171</td>\n",
       "      <td>0.762347</td>\n",
       "      <td>0.363821</td>\n",
       "      <td>0.508523</td>\n",
       "    </tr>\n",
       "    <tr>\n",
       "      <th>0</th>\n",
       "      <td>XGBClassifier_pred_test_0.3</td>\n",
       "      <td>0.290749</td>\n",
       "      <td>0.763814</td>\n",
       "      <td>0.300912</td>\n",
       "      <td>0.281250</td>\n",
       "    </tr>\n",
       "    <tr>\n",
       "      <th>0</th>\n",
       "      <td>RandomForestClassifier_pred_test_0.4</td>\n",
       "      <td>0.361874</td>\n",
       "      <td>0.806846</td>\n",
       "      <td>0.419476</td>\n",
       "      <td>0.318182</td>\n",
       "    </tr>\n",
       "    <tr>\n",
       "      <th>0</th>\n",
       "      <td>XGBClassifier_pred_test_0.4</td>\n",
       "      <td>0.261017</td>\n",
       "      <td>0.786797</td>\n",
       "      <td>0.323529</td>\n",
       "      <td>0.218750</td>\n",
       "    </tr>\n",
       "  </tbody>\n",
       "</table>\n",
       "</div>"
      ],
      "text/plain": [
       "                                  model        f1  accuracy  precision  \\\n",
       "0             RandomForestClassifier_CV  0.201646  0.824450   0.471218   \n",
       "0     RandomForestClassifier_pred_valid  0.223176  0.822983   0.456140   \n",
       "0      RandomForestClassifier_pred_test  0.195991  0.823472   0.453608   \n",
       "0                      XGBClassifier_CV  0.270515  0.804075   0.378215   \n",
       "0              XGBClassifier_pred_valid  0.218519  0.793643   0.313830   \n",
       "0               XGBClassifier_pred_test  0.225191  0.801467   0.343023   \n",
       "0  RandomForestClassifier_pred_test_0.3  0.424171  0.762347   0.363821   \n",
       "0           XGBClassifier_pred_test_0.3  0.290749  0.763814   0.300912   \n",
       "0  RandomForestClassifier_pred_test_0.4  0.361874  0.806846   0.419476   \n",
       "0           XGBClassifier_pred_test_0.4  0.261017  0.786797   0.323529   \n",
       "\n",
       "     recall  \n",
       "0  0.128682  \n",
       "0  0.147727  \n",
       "0  0.125000  \n",
       "0  0.210968  \n",
       "0  0.167614  \n",
       "0  0.167614  \n",
       "0  0.508523  \n",
       "0  0.281250  \n",
       "0  0.318182  \n",
       "0  0.218750  "
      ]
     },
     "execution_count": 783,
     "metadata": {},
     "output_type": "execute_result"
    }
   ],
   "source": [
    "models_scores"
   ]
  },
  {
   "cell_type": "code",
   "execution_count": 786,
   "metadata": {},
   "outputs": [
    {
     "data": {
      "text/plain": [
       "['./models/6_waze_random_forest.pkl']"
      ]
     },
     "execution_count": 786,
     "metadata": {},
     "output_type": "execute_result"
    }
   ],
   "source": [
    "# Export models:\n",
    "joblib.dump(grad_boost['model'], './models/6_waze_grad_boost.pkl')\n",
    "joblib.dump(random_forest['model'], './models/6_waze_random_forest.pkl')"
   ]
  },
  {
   "cell_type": "markdown",
   "metadata": {
    "id": "F_Hl_g6rTz5o"
   },
   "source": [
    "Recall and F1 score increased significantly, while precision and accuracy decreased.\n",
    "\n",
    "So, using the precision-recall curve as a guide, suppose you knew that you'd be satisfied if the model had a recall score of 0.5 and you were willing to accept the \\~30% precision score that comes with it. In other words, you'd be happy if the model successfully identified half of the people who will actually churn, even if it means that when the model says someone will churn, it's only correct about 30% of the time.\n",
    "\n",
    "What threshold will yield this result? There are a number of ways to determine this. Here's one way that uses a function to accomplish this."
   ]
  },
  {
   "cell_type": "markdown",
   "metadata": {
    "jp-MarkdownHeadingCollapsed": true
   },
   "source": [
    "# Appendix: Function to Calculate Probability Threshold for Given Recall Value "
   ]
  },
  {
   "cell_type": "code",
   "execution_count": 143,
   "metadata": {
    "id": "ahSvceazUsnP"
   },
   "outputs": [],
   "source": [
    "def threshold_finder(y_test_data, probabilities, desired_recall):\n",
    "    '''\n",
    "    Find the threshold that most closely yields a desired recall score.\n",
    "\n",
    "    Inputs:\n",
    "        y_test_data: Array of true y values\n",
    "        probabilities: The results of the `predict_proba()` model method\n",
    "        desired_recall: The recall that you want the model to have\n",
    "\n",
    "    Outputs:\n",
    "        threshold: The threshold that most closely yields the desired recall\n",
    "        recall: The exact recall score associated with `threshold`\n",
    "    '''\n",
    "    probs = [x[1] for x in probabilities]  # Isolate second column of `probabilities`\n",
    "    thresholds = np.arange(0, 1, 0.001)    # Set a grid of 1,000 thresholds to test\n",
    "\n",
    "    scores = []\n",
    "    for threshold in thresholds:\n",
    "        # Create a new array of {0, 1} predictions based on new threshold\n",
    "        preds = np.array([1 if x >= threshold else 0 for x in probs])\n",
    "        # Calculate recall score for that threshold\n",
    "        recall = recall_score(y_test_data, preds)\n",
    "        # Append the threshold and its corresponding recall score as a tuple to `scores`\n",
    "        scores.append((threshold, recall))\n",
    "\n",
    "    distances = []\n",
    "    for idx, score in enumerate(scores):\n",
    "        # Calculate how close each actual score is to the desired score\n",
    "        distance = abs(score[1] - desired_recall)\n",
    "        # Append the (index#, distance) tuple to `distances`\n",
    "        distances.append((idx, distance))\n",
    "\n",
    "    # Sort `distances` by the second value in each of its tuples (least to greatest)\n",
    "    sorted_distances = sorted(distances, key=lambda x: x[1], reverse=False)\n",
    "    # Identify the tuple with the actual recall closest to desired recall\n",
    "    best = sorted_distances[0]\n",
    "    # Isolate the index of the threshold with the closest recall score\n",
    "    best_idx = best[0]\n",
    "    # Retrieve the threshold and actual recall score closest to desired recall\n",
    "    threshold, recall = scores[best_idx]\n",
    "\n",
    "    return threshold, recall\n"
   ]
  },
  {
   "cell_type": "markdown",
   "metadata": {},
   "source": [
    "**END**"
   ]
  }
 ],
 "metadata": {
  "colab": {
   "provenance": [
    {
     "file_id": "1DHsmIEwaXUmfVT4tFzyOwyyfXAX0v6IF",
     "timestamp": 1675262571681
    },
    {
     "file_id": "1oNheYh5WbljxkvoK_BMkQTey2DWnFXMs",
     "timestamp": 1674856595373
    }
   ]
  },
  "kernelspec": {
   "display_name": "Python 3 (ipykernel)",
   "language": "python",
   "name": "python3"
  },
  "language_info": {
   "codemirror_mode": {
    "name": "ipython",
    "version": 3
   },
   "file_extension": ".py",
   "mimetype": "text/x-python",
   "name": "python",
   "nbconvert_exporter": "python",
   "pygments_lexer": "ipython3",
   "version": "3.8.10"
  }
 },
 "nbformat": 4,
 "nbformat_minor": 4
}
